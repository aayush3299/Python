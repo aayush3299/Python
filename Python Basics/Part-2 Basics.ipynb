{
 "cells": [
  {
   "cell_type": "markdown",
   "metadata": {},
   "source": [
    "# **Basics of Python**"
   ]
  },
  {
   "cell_type": "markdown",
   "metadata": {},
   "source": [
    "This Section includes:\n",
    "<ul>\n",
    "    <li><a href=\"#types\">Types</a></li>\n",
    "<li><a href=\"#comments\">Comments</a></li>\n",
    "    <li><a href=\"#operators\">Operators</a></li>\n",
    "<li><a href=\"#variables\">Variables</a></li>\n",
    "    <li><a href=\"#input\">Input</a></li>\n"
   ]
  },
  {
   "cell_type": "markdown",
   "metadata": {},
   "source": [
    "Lets start with Hello world!"
   ]
  },
  {
   "cell_type": "code",
   "execution_count": 1,
   "metadata": {},
   "outputs": [
    {
     "name": "stdout",
     "output_type": "stream",
     "text": [
      "Hello World\n"
     ]
    }
   ],
   "source": [
    "print(\"Hello World\")"
   ]
  },
  {
   "cell_type": "markdown",
   "metadata": {},
   "source": [
    "print function is an inbuilt function which instructs the interpreter to print the object inside it .In this case the object is of string form ."
   ]
  },
  {
   "cell_type": "markdown",
   "metadata": {},
   "source": [
    "<h1 id=\"types\">TYPES</h1>"
   ]
  },
  {
   "cell_type": "markdown",
   "metadata": {},
   "source": [
    "<a align=\"center\">\n",
    "    <img src=\"https://s3-api.us-geo.objectstorage.softlayer.net/cf-courses-data/CognitiveClass/PY0101EN/Chapter%201/Images/TypesObjects.png\" width=\"600\">\n",
    "</a>"
   ]
  },
  {
   "cell_type": "markdown",
   "metadata": {},
   "source": [
    "Python 3 most used types :String ,word,float and other types like list,dictionary and strings too .  \n",
    "**Char is taken as string in python and no Char type exists**"
   ]
  },
  {
   "cell_type": "markdown",
   "metadata": {},
   "source": [
    "To find the type of variable we use the type function"
   ]
  },
  {
   "cell_type": "code",
   "execution_count": 2,
   "metadata": {},
   "outputs": [
    {
     "name": "stdout",
     "output_type": "stream",
     "text": [
      "<class 'int'>\n"
     ]
    }
   ],
   "source": [
    "a=10\n",
    "b=type(a)\n",
    "print(b)"
   ]
  },
  {
   "cell_type": "code",
   "execution_count": 3,
   "metadata": {},
   "outputs": [
    {
     "name": "stdout",
     "output_type": "stream",
     "text": [
      "<class 'str'>\n"
     ]
    }
   ],
   "source": [
    "a=\"hello\"\n",
    "b=(print(type(a)))"
   ]
  },
  {
   "cell_type": "markdown",
   "metadata": {},
   "source": [
    "In the above question we have used nested function to call function type inside the function print"
   ]
  },
  {
   "cell_type": "markdown",
   "metadata": {},
   "source": [
    "**In python By-Default all calculations are outputed as floats**"
   ]
  },
  {
   "cell_type": "code",
   "execution_count": 4,
   "metadata": {},
   "outputs": [
    {
     "name": "stdout",
     "output_type": "stream",
     "text": [
      "2.0\n"
     ]
    }
   ],
   "source": [
    "a=5\n",
    "b=10\n",
    "c=b/a\n",
    "print(c)"
   ]
  },
  {
   "cell_type": "markdown",
   "metadata": {},
   "source": [
    "<hr>"
   ]
  },
  {
   "cell_type": "markdown",
   "metadata": {},
   "source": [
    "<h1 id=\"comments\">Comments</h1>"
   ]
  },
  {
   "cell_type": "code",
   "execution_count": 8,
   "metadata": {},
   "outputs": [
    {
     "name": "stdout",
     "output_type": "stream",
     "text": [
      "upper comment is not printed\n",
      "upper multiline comment is not printed\n"
     ]
    }
   ],
   "source": [
    "# This is single line code \n",
    "print(\"upper comment is not printed\")\n",
    "''' triple quotes can also be used as \n",
    "multiline comments but are not recommended'''\n",
    "print(\"upper multiline comment is not printed\")"
   ]
  },
  {
   "cell_type": "markdown",
   "metadata": {},
   "source": [
    "Comments are always considered important in making a code more readable and make a person who is reading your code clear of \n",
    "every step that you take"
   ]
  },
  {
   "cell_type": "markdown",
   "metadata": {},
   "source": [
    "<hr>"
   ]
  },
  {
   "cell_type": "markdown",
   "metadata": {},
   "source": [
    "<h1 id=\"operators\">Operators</h1>\n",
    "<table>\n",
    "    <tr>\n",
    "        <td>/</td><td> Divide</td>\n",
    "    <tr><td>//</td><td> Floor integer divide </td></tr> \n",
    "    <tr><td>*</td> <td> Multiply </td></tr>\n",
    "    <tr><td>**</td> <td> Power </td></tr>\n",
    "    <tr><td>%</td><td> modulus or remainder </td></tr></table>"
   ]
  },
  {
   "cell_type": "code",
   "execution_count": 10,
   "metadata": {},
   "outputs": [
    {
     "name": "stdout",
     "output_type": "stream",
     "text": [
      "2\n",
      "2.0\n",
      "2.0\n",
      "2.0\n"
     ]
    }
   ],
   "source": [
    "a1=10\n",
    "a2=10.0\n",
    "b1=5\n",
    "b2=5.0\n",
    "# // returns only integer if both the operants are int\n",
    "print(a1//b1)\n",
    "print(a1//b2)\n",
    "print(a2//b1)\n",
    "print(a2//b2)"
   ]
  },
  {
   "cell_type": "code",
   "execution_count": 12,
   "metadata": {},
   "outputs": [
    {
     "name": "stdout",
     "output_type": "stream",
     "text": [
      "25\n"
     ]
    }
   ],
   "source": [
    "a=5\n",
    "b=2\n",
    "c=a**b\n",
    "print(c)"
   ]
  },
  {
   "cell_type": "markdown",
   "metadata": {},
   "source": [
    "#### Membership operators\n",
    "**in**     \n",
    "this returns a boolean true if value is found in specific sequence    \n",
    "**not in**     \n",
    "returns true if value is not found     \n",
    "**is**    \n",
    "returns true if value is equal"
   ]
  },
  {
   "cell_type": "code",
   "execution_count": 18,
   "metadata": {},
   "outputs": [
    {
     "name": "stdout",
     "output_type": "stream",
     "text": [
      "True\n"
     ]
    }
   ],
   "source": [
    "#please ignore this example if it is not clear to you as it has a list\n",
    "usr_list=[5,4,6]\n",
    "check=5\n",
    "print(check in usr_list)"
   ]
  },
  {
   "cell_type": "code",
   "execution_count": 17,
   "metadata": {},
   "outputs": [
    {
     "name": "stdout",
     "output_type": "stream",
     "text": [
      "True\n"
     ]
    }
   ],
   "source": [
    "python=1\n",
    "easy=1\n",
    "print(python is easy)"
   ]
  },
  {
   "cell_type": "markdown",
   "metadata": {},
   "source": [
    "## Priority of operators\n",
    "<img src=\"https://i.pinimg.com/originals/fd/b6/5a/fdb65a214cc792cf07b2d84f4230b044.jpg\">\n"
   ]
  },
  {
   "cell_type": "markdown",
   "metadata": {},
   "source": [
    "<hr>"
   ]
  },
  {
   "cell_type": "markdown",
   "metadata": {},
   "source": [
    "<h1 id=\"variables\">Variables</h1>"
   ]
  },
  {
   "cell_type": "markdown",
   "metadata": {},
   "source": [
    "**Following are the convention rules for Variables**\n",
    "<ul>\n",
    "    <li>The first character of variable can be underscore or any letter upper or lower case</li>\n",
    "    <li>It can consist of any no of letters,underscores or digits</li>\n",
    "    <li>It is case sensitive</li>\n",
    "    <li>Any special symbol like &,#,etc are not allowed.</li>\n",
    "    <li>All the variables starting with 2 preceding underscores are private variables to a class</li>\n",
    "    <li>Variable with two preceding and two proceding underscores are inbuilt variable/functions.</li>\n",
    "    "
   ]
  },
  {
   "cell_type": "markdown",
   "metadata": {},
   "source": [
    "A improperly declared or named variable can throw a range of errors as seen below:"
   ]
  },
  {
   "cell_type": "code",
   "execution_count": 11,
   "metadata": {},
   "outputs": [
    {
     "ename": "SyntaxError",
     "evalue": "can't assign to operator (<ipython-input-11-9277aacd30dd>, line 2)",
     "output_type": "error",
     "traceback": [
      "\u001b[1;36m  File \u001b[1;32m\"<ipython-input-11-9277aacd30dd>\"\u001b[1;36m, line \u001b[1;32m2\u001b[0m\n\u001b[1;33m    usr&a=32\u001b[0m\n\u001b[1;37m            ^\u001b[0m\n\u001b[1;31mSyntaxError\u001b[0m\u001b[1;31m:\u001b[0m can't assign to operator\n"
     ]
    }
   ],
   "source": [
    "usr_input=input()\n",
    "usr&a=32"
   ]
  },
  {
   "cell_type": "markdown",
   "metadata": {},
   "source": [
    "<hr>"
   ]
  },
  {
   "cell_type": "markdown",
   "metadata": {},
   "source": [
    "<h1 id=\"input\">Input</h1>"
   ]
  },
  {
   "cell_type": "markdown",
   "metadata": {},
   "source": [
    "The input function is used take input from user in form of prompt    \n",
    "user **input by default in python is taken as string** and hence needs to be type-casted into other forms.   \n",
    "Also if a string is written with the brackets of the input function it will be shown to the user to provide hint for the input.  \n",
    "Check out the example below"
   ]
  },
  {
   "cell_type": "code",
   "execution_count": 13,
   "metadata": {},
   "outputs": [
    {
     "name": "stdin",
     "output_type": "stream",
     "text": [
      "This is the hint,please enter anything 5\n"
     ]
    },
    {
     "name": "stdout",
     "output_type": "stream",
     "text": [
      "<class 'str'>\n"
     ]
    }
   ],
   "source": [
    "#simple input stored in variable user_id\n",
    "user_in=input(\"This is the hint,please enter anything\")\n",
    "# even if integer is entered it is taken as string \n",
    "#to prove this we will use the type function on the var user_in\n",
    "print(type(user_in))\n"
   ]
  },
  {
   "cell_type": "code",
   "execution_count": 14,
   "metadata": {},
   "outputs": [
    {
     "name": "stdin",
     "output_type": "stream",
     "text": [
      "int is now a int 5\n"
     ]
    },
    {
     "name": "stdout",
     "output_type": "stream",
     "text": [
      "<class 'int'>\n"
     ]
    }
   ],
   "source": [
    "#we can typecast the input directly to take input as integer by using int\n",
    "user_int=int(input(\"int is now a int\"))\n",
    "#to prove it is int let us use the type function\n",
    "print(type(user_int))"
   ]
  },
  {
   "cell_type": "markdown",
   "metadata": {},
   "source": [
    "<hr>"
   ]
  }
 ],
 "metadata": {
  "kernelspec": {
   "display_name": "Python 3",
   "language": "python",
   "name": "python3"
  },
  "language_info": {
   "codemirror_mode": {
    "name": "ipython",
    "version": 3
   },
   "file_extension": ".py",
   "mimetype": "text/x-python",
   "name": "python",
   "nbconvert_exporter": "python",
   "pygments_lexer": "ipython3",
   "version": "3.7.3"
  }
 },
 "nbformat": 4,
 "nbformat_minor": 4
}
