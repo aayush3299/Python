{
 "cells": [
  {
   "cell_type": "markdown",
   "metadata": {},
   "source": [
    "# Control Statements"
   ]
  },
  {
   "cell_type": "markdown",
   "metadata": {},
   "source": [
    "Unlike other languages python does not use curly braces {} to declare a loop or multiline condition,instead in Python  \n",
    "**Everything depends on the INDENTATION !**"
   ]
  },
  {
   "cell_type": "markdown",
   "metadata": {},
   "source": [
    "## A. Conditionals :\n"
   ]
  },
  {
   "cell_type": "markdown",
   "metadata": {},
   "source": [
    "### 1. If "
   ]
  },
  {
   "cell_type": "code",
   "execution_count": null,
   "metadata": {},
   "outputs": [],
   "source": [
    "if BOOLEAN EXPRESSION:\n",
    "    STATEMENT_1        # executed if condition True\n",
    "else:\n",
    "    STATEMENT_2        # executed if condition False"
   ]
  },
  {
   "cell_type": "markdown",
   "metadata": {},
   "source": [
    "After the keyword <code>if</code> the condition to be evaluated is put.  \n",
    "If that condition is true the the below indentated block of code is run.  \n",
    "If it is false then the <code>else</code> part of the block is run."
   ]
  },
  {
   "cell_type": "code",
   "execution_count": 1,
   "metadata": {},
   "outputs": [
    {
     "name": "stdout",
     "output_type": "stream",
     "text": [
      "x greater than 9\n"
     ]
    }
   ],
   "source": [
    "x=10\n",
    "if x>9:\n",
    "    print(\"x greater than 9\")\n",
    "else:\n",
    "    print(\"not greater than 9\")"
   ]
  },
  {
   "cell_type": "markdown",
   "metadata": {},
   "source": [
    "### 2. Elif"
   ]
  },
  {
   "cell_type": "code",
   "execution_count": null,
   "metadata": {},
   "outputs": [],
   "source": [
    "if BOOLEAN EXPRESSION:\n",
    "    STATEMENT_1        # executed if condition True\n",
    "elif BOOLEAN EXPRESSION:\n",
    "    STATEMENT_2        # executed if condition True\n",
    "else:\n",
    "    STATEMENT_2        # executed if condition False"
   ]
  },
  {
   "cell_type": "markdown",
   "metadata": {},
   "source": [
    "In Chained If-else conditional we add one or more <code>Elif</code> blocks ,which only run if condition is true.  \n",
    "Hence our condition will only go in only of the required end block .If <code>If</code> had been used then ultiple blocks might have run!.\n",
    "The following example will make this clear."
   ]
  },
  {
   "cell_type": "code",
   "execution_count": 3,
   "metadata": {},
   "outputs": [
    {
     "name": "stdout",
     "output_type": "stream",
     "text": [
      "x>3\n",
      "x=5\n"
     ]
    }
   ],
   "source": [
    "# Only If loops \n",
    "x=5\n",
    "if x>3:\n",
    "    print(\"x>3\")\n",
    "if x==5:\n",
    "    print(\"x=5\")\n"
   ]
  },
  {
   "cell_type": "code",
   "execution_count": 5,
   "metadata": {},
   "outputs": [
    {
     "name": "stdout",
     "output_type": "stream",
     "text": [
      "x>3\n"
     ]
    }
   ],
   "source": [
    "# Elif loops\n",
    "x=5\n",
    "if x>3:\n",
    "    print(\"x>3\")\n",
    "elif x==5:\n",
    "    print(\"x=5\")\n",
    "#only first block runs"
   ]
  },
  {
   "cell_type": "markdown",
   "metadata": {},
   "source": [
    "### 3. Nested If"
   ]
  },
  {
   "cell_type": "markdown",
   "metadata": {},
   "source": [
    "If we add another level of if-else loops within an if or else loop ,we form nested loops."
   ]
  },
  {
   "cell_type": "code",
   "execution_count": 6,
   "metadata": {},
   "outputs": [
    {
     "name": "stdout",
     "output_type": "stream",
     "text": [
      "x is 9\n"
     ]
    }
   ],
   "source": [
    "x=9\n",
    "if x>5:\n",
    "    if x==9:\n",
    "        print(\"x is 9\")\n",
    "    else:\n",
    "        print(\"x isnot 9 but still greater than 5\")\n",
    "else:\n",
    "    print(\"x less than 5\")"
   ]
  },
  {
   "cell_type": "markdown",
   "metadata": {},
   "source": [
    "## B. Loops :"
   ]
  },
  {
   "cell_type": "markdown",
   "metadata": {},
   "source": [
    "*A loop is like a circle which makes the interpreter run certain lines again and again,iterating between them  \n",
    "and checking given conditions everytime.*"
   ]
  },
  {
   "cell_type": "markdown",
   "metadata": {},
   "source": [
    "### 1. While loop :"
   ]
  },
  {
   "cell_type": "code",
   "execution_count": null,
   "metadata": {},
   "outputs": [],
   "source": [
    "bla bla bla\n",
    "While BOOLEAN EXPRESSION:\n",
    "    STATEMENT BLOCK\n",
    "bla bla bla"
   ]
  },
  {
   "cell_type": "markdown",
   "metadata": {},
   "source": [
    "After the <code>bla bla bla</code> the iterator goes to execute the while loop but first it checks if the condition is true or false.  \n",
    "If the condition is true then it executes the indented code block.Immediately after executing it ,the condition is checked again and if it still satisfies then loop is run again.  \n",
    "This will carry on till infinity (which btw is never desired) until the condition becomes false."
   ]
  },
  {
   "cell_type": "code",
   "execution_count": 7,
   "metadata": {},
   "outputs": [
    {
     "name": "stdout",
     "output_type": "stream",
     "text": [
      "x is  5\n",
      "x is  6\n",
      "x is  7\n",
      "x is  8\n",
      "x is  9\n"
     ]
    }
   ],
   "source": [
    "x=5\n",
    "while(x<10):\n",
    "    print(\"x is \",x)\n",
    "    x=x+1\n"
   ]
  },
  {
   "cell_type": "markdown",
   "metadata": {},
   "source": [
    "### 2. For Loop :"
   ]
  },
  {
   "cell_type": "markdown",
   "metadata": {},
   "source": [
    "For loop is easier to implement and also can be applied to pick list elements letter by letter."
   ]
  },
  {
   "cell_type": "code",
   "execution_count": 9,
   "metadata": {},
   "outputs": [
    {
     "name": "stdout",
     "output_type": "stream",
     "text": [
      "hello\n",
      "hello\n"
     ]
    }
   ],
   "source": [
    "for i in range (2):\n",
    "    print(\"hello\")"
   ]
  },
  {
   "cell_type": "markdown",
   "metadata": {},
   "source": [
    "<ul><li><h3><code>For</code></h3> loop is generally used where number of iterations is known to us  </li>\n",
    "<li><h3><code>While</code></h3> loop is generally used where the condition to end loop is known to us and number of iterations are not known.</li></ul>"
   ]
  },
  {
   "cell_type": "markdown",
   "metadata": {},
   "source": [
    "  ## #Important Break and Continue (Can also be used in If and else )"
   ]
  },
  {
   "cell_type": "markdown",
   "metadata": {},
   "source": [
    "#### <code>Break</code>\n",
    "This keyword is used to breakout of the loop"
   ]
  },
  {
   "cell_type": "markdown",
   "metadata": {},
   "source": [
    "#### <code>Continue</code>\n",
    "This is used to end the current iteration of the loop and move on to the next "
   ]
  }
 ],
 "metadata": {
  "kernelspec": {
   "display_name": "Python 3",
   "language": "python",
   "name": "python3"
  },
  "language_info": {
   "codemirror_mode": {
    "name": "ipython",
    "version": 3
   },
   "file_extension": ".py",
   "mimetype": "text/x-python",
   "name": "python",
   "nbconvert_exporter": "python",
   "pygments_lexer": "ipython3",
   "version": "3.7.3"
  }
 },
 "nbformat": 4,
 "nbformat_minor": 4
}
