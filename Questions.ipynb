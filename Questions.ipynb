{
 "cells": [
  {
   "cell_type": "markdown",
   "metadata": {},
   "source": [
    "# String Based Questions"
   ]
  },
  {
   "cell_type": "markdown",
   "metadata": {},
   "source": [
    "**Q1.Wap to count the number of characters (character frequency) in a string.\n",
    "Expected result: {'0':3,'g':2,'.':1}**"
   ]
  },
  {
   "cell_type": "code",
   "execution_count": 15,
   "metadata": {},
   "outputs": [
    {
     "name": "stdin",
     "output_type": "stream",
     "text": [
      " google.com\n"
     ]
    },
    {
     "name": "stdout",
     "output_type": "stream",
     "text": [
      "['g:2', 'o:3', 'o:3', 'g:2', 'l:1', 'e:1', '.:1', 'c:1', 'o:3', 'm:1']\n"
     ]
    }
   ],
   "source": [
    "usr_str=input()\n",
    "usr_list=[]\n",
    "l = []\n",
    "#count char and make a string with char and its count\n",
    "for char in usr_str:\n",
    "    a=char+\":\"+ str(usr_str.count(char))\n",
    "    usr_list.append(a)\n",
    "#output is not ideal as all of it is a string\n",
    "if(str(usr_list) not in l):\n",
    "    print(str(usr_list))\n",
    "    #l.append(str(usr_list))\n",
    "\n"
   ]
  },
  {
   "cell_type": "markdown",
   "metadata": {},
   "source": [
    "**Q2.Wap to get a string from a given string where all occurances of its first character have been changed to $ ( dollar) except the first character itself.\n",
    "Sample string: -'restart'\n",
    "o/p- 'resta$t'**"
   ]
  },
  {
   "cell_type": "code",
   "execution_count": 3,
   "metadata": {},
   "outputs": [
    {
     "name": "stdin",
     "output_type": "stream",
     "text": [
      " rreesst\n"
     ]
    },
    {
     "name": "stdout",
     "output_type": "stream",
     "text": [
      "r$eesst\n"
     ]
    }
   ],
   "source": [
    "usr_str=input()\n",
    "op_str=\"\"\n",
    "changer=usr_str[0]\n",
    "op_str=changer\n",
    "for char in usr_str[1:]:\n",
    "    if(char==changer):\n",
    "        char='$'\n",
    "        op_str=op_str+char\n",
    "    else:\n",
    "        op_str=op_str+char\n",
    "print(op_str)\n",
    "    \n",
    "    \n"
   ]
  },
  {
   "cell_type": "markdown",
   "metadata": {},
   "source": [
    "**Q3.Wap to change a given string to a new string where the first and last chars have been exchanged**"
   ]
  },
  {
   "cell_type": "code",
   "execution_count": null,
   "metadata": {},
   "outputs": [],
   "source": [
    "usr_str=input()\n",
    "op_str=\"\"\n",
    "first=usr_str[0]\n",
    "last=usr_str[len(usr_str)-1]\n",
    "\n",
    "op_str=last+usr_str[1:len(usr_str)-1]+first\n",
    "print(op_str)"
   ]
  },
  {
   "cell_type": "markdown",
   "metadata": {},
   "source": [
    "**Q4.Wap that accepts a comma separted sequence of words as inputs and prints the unique words in sorted form (alphanumerically)\n",
    "I/O- red,white,black,red,green,black\n",
    "O/P- black,green**"
   ]
  },
  {
   "cell_type": "code",
   "execution_count": 1,
   "metadata": {},
   "outputs": [
    {
     "name": "stdin",
     "output_type": "stream",
     "text": [
      " red,white,black,red,green,black\n"
     ]
    },
    {
     "name": "stdout",
     "output_type": "stream",
     "text": [
      "black,black,green,red,red,white\n"
     ]
    }
   ],
   "source": [
    "usr_str=input()\n",
    "usr_list=[]\n",
    "usr_list=sorted(usr_str.split(','))\n",
    "print(','.join(usr_list))\n",
    "\n"
   ]
  },
  {
   "cell_type": "markdown",
   "metadata": {},
   "source": [
    "**Q5.WAp to capatilize first and last letter of each word of a given string\n",
    "i/o- 'the quick brown fox jumps over the lazy dog'\n",
    "o/p- 'ThE QuicK BrowN FoX JumpS OveR ThE LazY DoG'**"
   ]
  },
  {
   "cell_type": "code",
   "execution_count": 16,
   "metadata": {},
   "outputs": [
    {
     "name": "stdin",
     "output_type": "stream",
     "text": [
      " the quick\n"
     ]
    },
    {
     "name": "stdout",
     "output_type": "stream",
     "text": [
      "the quick\n"
     ]
    }
   ],
   "source": [
    "#Wrong self code\n",
    "usr_str=input()\n",
    "word_list=[]\n",
    "usr_list=usr_str.split()\n",
    "for word in usr_list:\n",
    "    word=list(word)\n",
    "    \n",
    "    word[0]=word[0].capitalize()\n",
    "    \n",
    "    word[len(word)-1]=word[len(word)-1].capitalize()\n",
    "print(' '.join(usr_list))\n",
    "    "
   ]
  },
  {
   "cell_type": "code",
   "execution_count": 2,
   "metadata": {},
   "outputs": [
    {
     "name": "stdin",
     "output_type": "stream",
     "text": [
      " the quick brown fox jumps over the lazy dog\n"
     ]
    },
    {
     "name": "stdout",
     "output_type": "stream",
     "text": [
      "ThE QuicK BrowN FoX JumpS OveR ThE LazY DoG\n"
     ]
    }
   ],
   "source": [
    "#proper code\n",
    "usr_str=input()\n",
    "a=\"\"\n",
    "b=\"\"\n",
    "word_list=[]\n",
    "usr_list=usr_str.split()\n",
    "for word in usr_list:\n",
    "    a=word[0].capitalize()\n",
    "    b=word[len(word)-1].capitalize()\n",
    "    c=a+word[1:len(word)-1]+b\n",
    "    word_list.append(c)\n",
    "print(' '.join(word_list))\n"
   ]
  },
  {
   "cell_type": "markdown",
   "metadata": {},
   "source": [
    "# List"
   ]
  },
  {
   "cell_type": "markdown",
   "metadata": {},
   "source": [
    "**Q1.sort list and return the sorted list in ascending and descending order using sort and sorted**"
   ]
  },
  {
   "cell_type": "code",
   "execution_count": 3,
   "metadata": {},
   "outputs": [
    {
     "name": "stdin",
     "output_type": "stream",
     "text": [
      " 5,10,15,2,3,4,1,2\n"
     ]
    },
    {
     "name": "stdout",
     "output_type": "stream",
     "text": [
      "['5', '10', '15', '2', '3', '4', '1', '2']\n",
      "new_list\n",
      " ['1', '10', '15', '2', '2', '3', '4', '5'] usr_list\n",
      " ['5', '10', '15', '2', '3', '4', '1', '2']\n",
      "\n",
      " ['1', '10', '15', '2', '2', '3', '4', '5']\n"
     ]
    }
   ],
   "source": [
    "usr_input=input()\n",
    "usr_list=usr_input.split(',')\n",
    "print(usr_list)\n",
    "new_list=sorted(usr_list)\n",
    "print(\"new_list\\n\",new_list,\"usr_list\\n\",usr_list)\n",
    "usr_list.sort()\n",
    "print(\"\\n\",usr_list)\n",
    "      \n"
   ]
  },
  {
   "cell_type": "markdown",
   "metadata": {},
   "source": [
    "**Q2.WAP to create list of numbers divisible by 4 or 13.All the elements of the list should lie in the range from 200 to 500.**"
   ]
  },
  {
   "cell_type": "code",
   "execution_count": 4,
   "metadata": {},
   "outputs": [
    {
     "name": "stdout",
     "output_type": "stream",
     "text": [
      "[200, 204, 208, 212, 216, 220, 221, 224, 228, 232, 234, 236, 240, 244, 247, 248, 252, 256, 260, 264, 268, 272, 273, 276, 280, 284, 286, 288, 292, 296, 299, 300, 304, 308, 312, 316, 320, 324, 325, 328, 332, 336, 338, 340, 344, 348, 351, 352, 356, 360, 364, 368, 372, 376, 377, 380, 384, 388, 390, 392, 396, 400, 403, 404, 408, 412, 416, 420, 424, 428, 429, 432, 436, 440, 442, 444, 448, 452, 455, 456, 460, 464, 468, 472, 476, 480, 481, 484, 488, 492, 494, 496, 500]\n"
     ]
    }
   ],
   "source": [
    "list_div=[]\n",
    "for number in range(200,501):\n",
    "    if(number%4==0 or number%13==0):\n",
    "        list_div.append(number)\n",
    "print(list_div)"
   ]
  },
  {
   "cell_type": "markdown",
   "metadata": {},
   "source": [
    "**Q3.Wap to create a list of numbers from 1-10 ,delete all the even positions and print the final list.**"
   ]
  },
  {
   "cell_type": "code",
   "execution_count": 11,
   "metadata": {},
   "outputs": [
    {
     "name": "stdout",
     "output_type": "stream",
     "text": [
      "[1, 2, 3, 4, 5, 6, 7, 8, 9, 10]\n",
      "[1, 3, 5, 7, 9]\n"
     ]
    }
   ],
   "source": [
    "list_num = []\n",
    "for number in range(1,11):\n",
    "    list_num.append(number)\n",
    "print(list_num)\n",
    "for number in list_num:\n",
    "#goes out of bound if range function used\n",
    "    if number%2==0:\n",
    "#goes out of bound if pop method is used\n",
    "        list_num.remove(number)\n",
    "    \n",
    "print(list_num)"
   ]
  },
  {
   "cell_type": "markdown",
   "metadata": {},
   "source": [
    "**Q4.Wap to print index at which particular value exists .If the value exists at multiple locations in the list then,print all the indexes,also count the number of times the value is repeated in the list**"
   ]
  },
  {
   "cell_type": "code",
   "execution_count": 17,
   "metadata": {},
   "outputs": [
    {
     "name": "stdin",
     "output_type": "stream",
     "text": [
      "Enter the list 1,2,1,3\n",
      "enter char to find 1\n"
     ]
    },
    {
     "name": "stdout",
     "output_type": "stream",
     "text": [
      "0\n",
      "2\n",
      "2\n"
     ]
    }
   ],
   "source": [
    "usr_input=input(\"Enter the list\")\n",
    "usr_list=usr_input.split(',')\n",
    "choice=input(\"enter char to find\")\n",
    "counter=0\n",
    "for element in usr_list:\n",
    "    a=0\n",
    "    if element==choice:\n",
    "        a=usr_list.index(element)\n",
    "        print(a)\n",
    "        counter=counter+1\n",
    "        usr_list[a]='$'\n",
    "print(counter)"
   ]
  },
  {
   "cell_type": "markdown",
   "metadata": {},
   "source": [
    "**Q5.Wap that creates a list of words by combining words in two individual lists**  \n",
    "I/P- ['Sarthak','Arnav','Anmol']  \n",
    "['Arya','Gandhi','Sharma']  \n",
    "O/P- ['Sarthak Arya','Arnav Gandhi','Anmol Sharma']"
   ]
  },
  {
   "cell_type": "raw",
   "metadata": {},
   "source": [
    "#not for non equal lists\n",
    "first=input().split(',')\n",
    "last=input().split(',')\n",
    "ans=[]\n",
    "for i in range(len(first)):\n",
    "    #ans[i].append(first[i]+last[i])\n",
    "    ans=ans+[(first[i]+last[i])]\n",
    "print(ans)\n",
    "    "
   ]
  },
  {
   "cell_type": "code",
   "execution_count": 11,
   "metadata": {},
   "outputs": [
    {
     "name": "stdin",
     "output_type": "stream",
     "text": [
      " Sarthak,Arnav,Anmol\n",
      " Arya,Gandhi,Sharma\n"
     ]
    },
    {
     "name": "stdout",
     "output_type": "stream",
     "text": [
      "['Sarthak Arya', 'Arnav Gandhi', 'Anmol Sharma']\n"
     ]
    }
   ],
   "source": [
    "#works on non equal lists\n",
    "first=input().split(',')\n",
    "last=input().split(',')\n",
    "for i,word in enumerate(last):\n",
    "    first[i]=first[i]+\" \"+word\n",
    "print(first)"
   ]
  },
  {
   "cell_type": "markdown",
   "metadata": {},
   "source": [
    "**Q6.Form a list of first chars of every word in another list**\n",
    "**second part-case insensitive ,the resulting list should have unique same case elements**\n",
    "['Hello','Python','Jython','java','C++']  \n",
    "['H','P','J','j','C']\n"
   ]
  },
  {
   "cell_type": "code",
   "execution_count": 18,
   "metadata": {},
   "outputs": [
    {
     "name": "stdin",
     "output_type": "stream",
     "text": [
      " Hello,Python,Jython,java,C++\n"
     ]
    },
    {
     "name": "stdout",
     "output_type": "stream",
     "text": [
      "['H', 'P', 'J', 'j', 'C']\n",
      "['H', 'P', 'J', 'C']\n"
     ]
    }
   ],
   "source": [
    "usr_input=input().split(',')\n",
    "op=[]\n",
    "op2=[]\n",
    "for word in usr_input:\n",
    "    op=op+[word[0]]\n",
    "print(op)\n",
    "#to del non unique elements\n",
    "for i in range(len(op)):\n",
    "#converts all letter by letter to upper case\n",
    "    op[i]=op[i].upper()\n",
    "#checks if element in op exists in new op2 or not and appends if not!\n",
    "    if(op[i] not in op2):\n",
    "        op2.append(op[i])\n",
    "print(op2)\n",
    "     \n",
    "    \n",
    "    \n",
    "    \n",
    "\n"
   ]
  },
  {
   "cell_type": "markdown",
   "metadata": {},
   "source": [
    "**Q7.Create a list of numbers until user enters '@' ,create a list of the given list such that no duplicate enteries exist**"
   ]
  },
  {
   "cell_type": "code",
   "execution_count": 24,
   "metadata": {},
   "outputs": [
    {
     "name": "stdin",
     "output_type": "stream",
     "text": [
      " 45\n",
      " 10\n",
      " 45\n",
      " 10\n",
      " @\n"
     ]
    },
    {
     "name": "stdout",
     "output_type": "stream",
     "text": [
      "['45', '10', '45', '10']\n",
      "['45', '10']\n"
     ]
    }
   ],
   "source": [
    "a=input()\n",
    "usr_list=[]\n",
    "\n",
    "while(a!='@'):\n",
    "    usr_list.append(a)\n",
    "    a=input()\n",
    "print(usr_list)\n",
    "unique=[]\n",
    "for i in range(len(usr_list)):\n",
    "    if(usr_list[i] not in unique):\n",
    "        unique.append(usr_list[i])\n",
    "print(unique)"
   ]
  },
  {
   "cell_type": "markdown",
   "metadata": {},
   "source": [
    "**Q8.Create a list of numbers in the specified range as entered by the user ,reverse the list and print its values . Also take an input of the number of steps**\n",
    "n:4  \n",
    "m:16  \n",
    "steps:3  \n",
    "[4,7.........16]"
   ]
  },
  {
   "cell_type": "code",
   "execution_count": 21,
   "metadata": {},
   "outputs": [
    {
     "name": "stdin",
     "output_type": "stream",
     "text": [
      " 4\n",
      " 16\n",
      " 3\n"
     ]
    },
    {
     "name": "stdout",
     "output_type": "stream",
     "text": [
      "[16, 13, 10, 7, 4]\n"
     ]
    }
   ],
   "source": [
    "n=int(input())\n",
    "m=int(input())\n",
    "steps=int(input())\n",
    "list_op=[]\n",
    "for i in range(n,m+1,steps):\n",
    "    list_op.append(i)\n",
    "list_op.reverse()\n",
    "print(list_op)\n",
    "    "
   ]
  },
  {
   "cell_type": "code",
   "execution_count": null,
   "metadata": {},
   "outputs": [],
   "source": []
  }
 ],
 "metadata": {
  "kernelspec": {
   "display_name": "Python 3",
   "language": "python",
   "name": "python3"
  },
  "language_info": {
   "codemirror_mode": {
    "name": "ipython",
    "version": 3
   },
   "file_extension": ".py",
   "mimetype": "text/x-python",
   "name": "python",
   "nbconvert_exporter": "python",
   "pygments_lexer": "ipython3",
   "version": "3.7.3"
  }
 },
 "nbformat": 4,
 "nbformat_minor": 4
}
