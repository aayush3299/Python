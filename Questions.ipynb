{
 "cells": [
  {
   "cell_type": "markdown",
   "metadata": {},
   "source": [
    "## Basic Questions"
   ]
  },
  {
   "cell_type": "markdown",
   "metadata": {},
   "source": [
    "**Q.User inputs variable,convert to octal,binary and hexadecimal.**"
   ]
  },
  {
   "cell_type": "code",
   "execution_count": 4,
   "metadata": {},
   "outputs": [
    {
     "name": "stdin",
     "output_type": "stream",
     "text": [
      " 10\n"
     ]
    },
    {
     "name": "stdout",
     "output_type": "stream",
     "text": [
      "0o12 0b1010 0xa\n"
     ]
    }
   ],
   "source": [
    "usr=int(input())\n",
    "b=oct(usr)\n",
    "c=bin(usr)\n",
    "d=hex(usr)\n",
    "print(b,c,d)"
   ]
  },
  {
   "cell_type": "markdown",
   "metadata": {},
   "source": [
    " **Q.Write a program to find distance between 2 points on the coordinate axis**"
   ]
  },
  {
   "cell_type": "code",
   "execution_count": 7,
   "metadata": {},
   "outputs": [
    {
     "name": "stdin",
     "output_type": "stream",
     "text": [
      "x1 5\n",
      "y1 5\n",
      "x2 6\n",
      "y2 6\n"
     ]
    },
    {
     "name": "stdout",
     "output_type": "stream",
     "text": [
      "1\n"
     ]
    }
   ],
   "source": [
    "a=int(input(\"x1\"))\n",
    "b=int(input(\"y1\"))\n",
    "c=int(input(\"x2\"))\n",
    "d=int(input(\"y2\"))\n",
    "e=(((a-c)**2)+((b-d)**2))**0.5\n",
    "print(int(e))"
   ]
  },
  {
   "cell_type": "markdown",
   "metadata": {},
   "source": [
    "**Q.Write a program to perform arthmetic operations on integer,float and mix of interger and float**"
   ]
  },
  {
   "cell_type": "code",
   "execution_count": 9,
   "metadata": {},
   "outputs": [
    {
     "name": "stdout",
     "output_type": "stream",
     "text": [
      "2.5\n",
      "3.3333333333333335\n",
      "1.6666666666666667\n",
      "2\n",
      "3.0\n",
      "1.0\n"
     ]
    }
   ],
   "source": [
    "a=5\n",
    "b=2\n",
    "c=10.0\n",
    "d=3.0\n",
    "#integer with integer\n",
    "print(a/b)\n",
    "#float with float\n",
    "print(c/d)\n",
    "#int with float\n",
    "print(a/d)\n",
    "#using float division\n",
    "print(a//b)\n",
    "print(c//d)\n",
    "print(a//d)\n"
   ]
  },
  {
   "cell_type": "markdown",
   "metadata": {},
   "source": [
    "**Q.Write a program to calculate average of two numbers and print deviation from it.**"
   ]
  },
  {
   "cell_type": "code",
   "execution_count": 10,
   "metadata": {},
   "outputs": [
    {
     "name": "stdin",
     "output_type": "stream",
     "text": [
      "enter first num 10\n",
      "enter second 20\n",
      "3rd num  25\n"
     ]
    },
    {
     "name": "stdout",
     "output_type": "stream",
     "text": [
      "15.0 10.0\n"
     ]
    }
   ],
   "source": [
    "a=int(input(\"enter first num\"))\n",
    "b=int(input(\"enter second\"))\n",
    "c=int(input(\"3rd num \"))\n",
    "#calculating average and storing it in variable d\n",
    "d=(a+b)/2\n",
    "#e is the deviation from the average\n",
    "e=c-d\n",
    "print(d,e)"
   ]
  },
  {
   "cell_type": "markdown",
   "metadata": {},
   "source": [
    "**Q.Write a program to calculate the bill amount for item by giving details about quantity,value,discount and tax.**"
   ]
  },
  {
   "cell_type": "code",
   "execution_count": 12,
   "metadata": {},
   "outputs": [
    {
     "name": "stdin",
     "output_type": "stream",
     "text": [
      "enter item name  rajma\n",
      "enter quantity  10\n",
      "value  20\n",
      "discount %  5\n",
      "tax %  8\n"
     ]
    },
    {
     "name": "stdout",
     "output_type": "stream",
     "text": [
      "rajma 205.2\n"
     ]
    }
   ],
   "source": [
    "#program inputs follow-\n",
    "item=input(\"enter item name \")\n",
    "quantity=int(input(\"enter quantity \"))\n",
    "value=int(input(\"value \"))\n",
    "discount=int(input(\"discount % \"))\n",
    "tax=int(input(\"tax % \"))\n",
    "#Program math follow-\n",
    "#a stores total cost \n",
    "a=(value*quantity)\n",
    "#b is cost plus tax\n",
    "b=((a*tax)/100)+a\n",
    "#c is final amount after substracting discount from it\n",
    "c=b-(b*discount)/100\n",
    "print(item,c)"
   ]
  },
  {
   "cell_type": "markdown",
   "metadata": {},
   "source": [
    "**Q.WAP to calculate students result based on 2 examinations,1 sports activity and 3 activities conducted in school  \n",
    "Weight of Activities= 30%  \n",
    "Weightage of sports = 20%    \n",
    "Weightage of examinations = 50%  \n",
    "The Total Exam score is 200  \n",
    "The total Sports score is 50\n",
    "The total activities score is 60**"
   ]
  },
  {
   "cell_type": "code",
   "execution_count": 13,
   "metadata": {},
   "outputs": [
    {
     "name": "stdin",
     "output_type": "stream",
     "text": [
      "enter exam1 100\n",
      "enter exam2 50\n",
      "enter sports score 48\n",
      "enter act1 14\n",
      "enter act2 12\n",
      "enter act3 8\n"
     ]
    },
    {
     "name": "stdout",
     "output_type": "stream",
     "text": [
      "73.69999999999999\n"
     ]
    }
   ],
   "source": [
    "e1=int(input(\"enter exam1\"))\n",
    "e2=int(input(\"enter exam2\"))\n",
    "s1=int(input(\"enter sports score\"))\n",
    "a1=int(input(\"enter act1\"))\n",
    "a2=int(input(\"enter act2\"))\n",
    "a3=int(input(\"enter act3\"))\n",
    "#program math follows\n",
    "ans=(((e1+e2)/200)*0.5) +((s1/50)*0.2) + (((a1+a2+a3)/60)*0.3)\n",
    "print(ans*100)"
   ]
  },
  {
   "cell_type": "markdown",
   "metadata": {},
   "source": [
    "## Conditional Statements and Loops"
   ]
  },
  {
   "cell_type": "markdown",
   "metadata": {},
   "source": [
    "**Q.Write a program to determine whether a person is eligible to vote or not. If not eligible display by how many years he lacks the eligibility criteria**"
   ]
  },
  {
   "cell_type": "code",
   "execution_count": 15,
   "metadata": {},
   "outputs": [
    {
     "name": "stdin",
     "output_type": "stream",
     "text": [
      "enter age 16\n"
     ]
    },
    {
     "name": "stdout",
     "output_type": "stream",
     "text": [
      "not eligible \n",
      " try again in  2  years\n"
     ]
    }
   ],
   "source": [
    "age=int(input(\"enter age\"))\n",
    "if (age>=18):\n",
    " print(\"eligible\")\n",
    "else:\n",
    " print(\"not eligible \\n try again in \",18-age,\" years\")"
   ]
  },
  {
   "cell_type": "markdown",
   "metadata": {},
   "source": [
    "**Q.Take input of 3 floating point numbers ,display the largest of them,the output should be of the format given below:<br>\n",
    "the largest of 1st,2nd,3rd; is __**"
   ]
  },
  {
   "cell_type": "code",
   "execution_count": 16,
   "metadata": {},
   "outputs": [
    {
     "name": "stdin",
     "output_type": "stream",
     "text": [
      " 5\n",
      " 7\n",
      " 3\n"
     ]
    },
    {
     "name": "stdout",
     "output_type": "stream",
     "text": [
      "the largest of  5.0 7.0 3.0 is \n",
      "7.0\n"
     ]
    }
   ],
   "source": [
    " a=float(input())\n",
    "b=float(input())\n",
    "c=float(input())\n",
    "print(\"the largest of \",a,b,c,\"is \") \n",
    "if (a>b and a>c):\n",
    "    print(a)\n",
    "elif (b>a and b>c):\n",
    "    print(b)\n",
    "elif (c>a and c>b):\n",
    "    print(b)"
   ]
  },
  {
   "cell_type": "markdown",
   "metadata": {},
   "source": [
    "**Q.take an input of character of user. If it is in lowercase, convert it to uppercase.**"
   ]
  },
  {
   "cell_type": "code",
   "execution_count": 17,
   "metadata": {},
   "outputs": [
    {
     "name": "stdin",
     "output_type": "stream",
     "text": [
      "enter letter c\n"
     ]
    },
    {
     "name": "stdout",
     "output_type": "stream",
     "text": [
      "C\n"
     ]
    }
   ],
   "source": [
    "a=input(\"enter letter\")\n",
    "#checking whether char lies between 97 to 122 of the ASCII series (lowercase alpha)\n",
    "if (ord(a)>=97 and ord(a)<=122):\n",
    "    x=ord(a)\n",
    "    x=x-32\n",
    "    print(chr(x))\n",
    "else:\n",
    "    print(\"already uppercase\")"
   ]
  },
  {
   "cell_type": "markdown",
   "metadata": {},
   "source": [
    "**Q.Company decides to  give bonus to all its employees on diwali. 5% for male, 10% for female. input employee gender as M or F and salary.  \n",
    "Also if salary of employee is less than 10000, he should get extra 2 percent bonus. Output the bonus and final salary to be given.**"
   ]
  },
  {
   "cell_type": "code",
   "execution_count": 18,
   "metadata": {},
   "outputs": [
    {
     "name": "stdin",
     "output_type": "stream",
     "text": [
      "enter salary 8200\n",
      "gender M/F F\n"
     ]
    },
    {
     "name": "stdout",
     "output_type": "stream",
     "text": [
      "bonus is  984.0 and salary is  9184.0\n"
     ]
    }
   ],
   "source": [
    "sal=int(input(\"enter salary\"))\n",
    "gen=input(\"gender M/F\")\n",
    "if (sal<10000):\n",
    "    if(gen=='M'):\n",
    "        bonus=(sal*7)/100\n",
    "    else:\n",
    "        bonus=(sal*12)/100\n",
    "else:\n",
    "    if(gen=='M'):\n",
    "        bonus=(sal*5)/100\n",
    "    else:\n",
    "        bonus=(sal*10)/100\n",
    "print(\"bonus is \",bonus,\"and salary is \",bonus+sal)\n"
   ]
  },
  {
   "cell_type": "markdown",
   "metadata": {},
   "source": [
    "**Q. Wap to check whether input was vowel or not. If it was vowel, then display its ascii value.**"
   ]
  },
  {
   "cell_type": "code",
   "execution_count": 19,
   "metadata": {},
   "outputs": [
    {
     "name": "stdin",
     "output_type": "stream",
     "text": [
      "enter letter i\n"
     ]
    },
    {
     "name": "stdout",
     "output_type": "stream",
     "text": [
      "105\n"
     ]
    }
   ],
   "source": [
    "a=input(\"enter letter\")\n",
    "if (a=='a' or a=='A' or a=='e' or a=='E' or a=='i' or a=='I' or a=='o' or a=='O' or a=='u' or a=='U'):\n",
    "    print(ord(a))\n",
    "else:\n",
    "    print(\"Not a vowel\")"
   ]
  },
  {
   "cell_type": "markdown",
   "metadata": {},
   "source": [
    "**Q.Wap that changes number between 1-7 to corrosponding day of the week.**"
   ]
  },
  {
   "cell_type": "code",
   "execution_count": 20,
   "metadata": {},
   "outputs": [
    {
     "name": "stdin",
     "output_type": "stream",
     "text": [
      " 2\n"
     ]
    },
    {
     "name": "stdout",
     "output_type": "stream",
     "text": [
      "tuesday\n"
     ]
    }
   ],
   "source": [
    "#this question uses list\n",
    "days=['monday','tuesday','wednesday','thursday','friday','saturday','sunday']\n",
    "day=int(input())\n",
    "print(days[day-1])"
   ]
  },
  {
   "cell_type": "markdown",
   "metadata": {},
   "source": [
    "**Q. Wap to calculate the sum and average of first 10 even numbers.**"
   ]
  },
  {
   "cell_type": "code",
   "execution_count": 22,
   "metadata": {},
   "outputs": [
    {
     "name": "stdout",
     "output_type": "stream",
     "text": [
      "90\n"
     ]
    }
   ],
   "source": [
    "i=0\n",
    "sum=0\n",
    "for num in range(20):\n",
    "    if(i<10):\n",
    "        if(num%2==0):\n",
    "            sum=sum+num\n",
    "            i+=1\n",
    "    else:\n",
    "        break\n",
    "print(sum)"
   ]
  },
  {
   "cell_type": "markdown",
   "metadata": {},
   "source": [
    "**Q. Wap to display pattern of <br>\n",
    "1> 20 * in single row <br>\n",
    "2> 20 * in 5x4 matrix**"
   ]
  },
  {
   "cell_type": "code",
   "execution_count": 24,
   "metadata": {},
   "outputs": [
    {
     "name": "stdout",
     "output_type": "stream",
     "text": [
      "* * * * * * * * * * * * * * * * * * * * \n",
      "\n",
      "* * * * \n",
      "* * * * \n",
      "* * * * \n",
      "* * * * \n",
      "* * * * \n"
     ]
    }
   ],
   "source": [
    "count=0\n",
    "i=0\n",
    "j=0\n",
    "while (count<20):\n",
    "    print(\"*\",end=\" \")\n",
    "    count=count+1\n",
    "print(\"\\n\")\n",
    "while (i<5):\n",
    "    #print(\"@\")\n",
    "    j=0\n",
    "    while(j<4):\n",
    "        j=j+1\n",
    "        print(\"*\",end=\" \")\n",
    "    print(\"\")\n",
    "    i=i+1"
   ]
  },
  {
   "cell_type": "markdown",
   "metadata": {},
   "source": [
    "**Q. Wap to read the numbers until -1 is encountered. Count the number of positives, negatives, and zeroes from the numbers.**"
   ]
  },
  {
   "cell_type": "code",
   "execution_count": 25,
   "metadata": {},
   "outputs": [
    {
     "name": "stdin",
     "output_type": "stream",
     "text": [
      " 5\n",
      " 2\n",
      " 1\n",
      " -10\n",
      " -5\n",
      " 0\n",
      " -1\n"
     ]
    },
    {
     "name": "stdout",
     "output_type": "stream",
     "text": [
      "3 2 1\n"
     ]
    }
   ],
   "source": [
    "i=1\n",
    "even=0\n",
    "odd=0\n",
    "zero=0\n",
    "while(i>0):\n",
    "    a=int(input())\n",
    "    if(a>0):\n",
    "        even=even+1\n",
    "    elif(a<0):\n",
    "        if(a==-1):\n",
    "            break;\n",
    "        else:\n",
    "            odd=odd+1\n",
    "    elif(a==0):\n",
    "        zero=zero+1\n",
    "    \n",
    "print(even,odd,zero)"
   ]
  },
  {
   "cell_type": "markdown",
   "metadata": {},
   "source": [
    "**Q. Wap that checks whether the number entered by user is armstrong number or not.**"
   ]
  },
  {
   "cell_type": "code",
   "execution_count": 34,
   "metadata": {},
   "outputs": [
    {
     "name": "stdin",
     "output_type": "stream",
     "text": [
      "enter 3 digit number 371\n"
     ]
    },
    {
     "name": "stdout",
     "output_type": "stream",
     "text": [
      "armstrong yes\n"
     ]
    }
   ],
   "source": [
    "num=int(input(\"enter 3 digit number\"))\n",
    "i=0\n",
    "sum=0\n",
    "newnum=num\n",
    "while(i<3):\n",
    "    i=i+1\n",
    "    if(newnum>0):\n",
    "        test=newnum%10\n",
    "        sum=sum+(test**3)\n",
    "    newnum=newnum//10\n",
    "if (sum==num):\n",
    "    print(\"armstrong yes\")\n",
    "else:\n",
    "    print(\"no\")"
   ]
  },
  {
   "cell_type": "markdown",
   "metadata": {},
   "source": [
    "**Q. WAP to read characters until a '*' is encountered, count the number of uppercase, lowercase and number of numbers entered by user.**"
   ]
  },
  {
   "cell_type": "code",
   "execution_count": 2,
   "metadata": {},
   "outputs": [
    {
     "name": "stdin",
     "output_type": "stream",
     "text": [
      " a\n",
      " D\n",
      " D\n",
      " 4\n",
      " *\n"
     ]
    },
    {
     "name": "stdout",
     "output_type": "stream",
     "text": [
      "num of upper case is 2,num of lower is 1 and num of numbers is 1\n"
     ]
    }
   ],
   "source": [
    "var=input()\n",
    "alpha=0\n",
    "uppr=0\n",
    "lwr=0\n",
    "num=0\n",
    "while (var !='*'):\n",
    "    \n",
    "    if(var.isalpha()):\n",
    "        if(var>='a' and var<='z'):\n",
    "            lwr=lwr+1\n",
    "        else:\n",
    "            uppr=uppr+1\n",
    "    elif(var.isdigit()):\n",
    "        num=num+1\n",
    "    var=input()\n",
    "print(\"num of upper case is {},num of lower is {} and num of numbers is {}\".format(uppr,lwr,num))"
   ]
  },
  {
   "cell_type": "markdown",
   "metadata": {},
   "source": [
    "**Q. WAP to classify a given number as prime or composite.**"
   ]
  },
  {
   "cell_type": "code",
   "execution_count": 4,
   "metadata": {},
   "outputs": [
    {
     "name": "stdin",
     "output_type": "stream",
     "text": [
      " 51\n"
     ]
    },
    {
     "name": "stdout",
     "output_type": "stream",
     "text": [
      "composite\n"
     ]
    }
   ],
   "source": [
    "var=int(input())\n",
    "count=0\n",
    "for num in range(1,var):\n",
    "    if(var%num==0):\n",
    "        count+=1\n",
    "if(count==1):\n",
    "    print(\"prime\")\n",
    "else:\n",
    "    print(\"composite\")"
   ]
  },
  {
   "cell_type": "markdown",
   "metadata": {},
   "source": [
    "**Q. Check if given number is power of 2 or not.**"
   ]
  },
  {
   "cell_type": "code",
   "execution_count": 5,
   "metadata": {},
   "outputs": [
    {
     "name": "stdin",
     "output_type": "stream",
     "text": [
      " 16\n"
     ]
    },
    {
     "name": "stdout",
     "output_type": "stream",
     "text": [
      "yes\n"
     ]
    }
   ],
   "source": [
    "var=int(input())\n",
    "for num in range(0,var):\n",
    "    if(var==2):\n",
    "        print(\"yes\")\n",
    "        break;\n",
    "        \n",
    "\n",
    "    elif(var%2==0):\n",
    "        var=var/2\n",
    "        continue\n",
    "    else:\n",
    "        print(\"not power of two\")\n",
    "        break"
   ]
  },
  {
   "cell_type": "markdown",
   "metadata": {},
   "source": [
    "**Q. WAP that prints all leap years from 1900 to 2101**"
   ]
  },
  {
   "cell_type": "code",
   "execution_count": 6,
   "metadata": {},
   "outputs": [
    {
     "name": "stdout",
     "output_type": "stream",
     "text": [
      "1900 is leap year\n",
      "1904 is leap year\n",
      "1908 is leap year\n",
      "1912 is leap year\n",
      "1916 is leap year\n",
      "1920 is leap year\n",
      "1924 is leap year\n",
      "1928 is leap year\n",
      "1932 is leap year\n",
      "1936 is leap year\n",
      "1940 is leap year\n",
      "1944 is leap year\n",
      "1948 is leap year\n",
      "1952 is leap year\n",
      "1956 is leap year\n",
      "1960 is leap year\n",
      "1964 is leap year\n",
      "1968 is leap year\n",
      "1972 is leap year\n",
      "1976 is leap year\n",
      "1980 is leap year\n",
      "1984 is leap year\n",
      "1988 is leap year\n",
      "1992 is leap year\n",
      "1996 is leap year\n",
      "2000 is leap year\n",
      "2004 is leap year\n",
      "2008 is leap year\n",
      "2012 is leap year\n",
      "2016 is leap year\n",
      "2020 is leap year\n",
      "2024 is leap year\n",
      "2028 is leap year\n",
      "2032 is leap year\n",
      "2036 is leap year\n",
      "2040 is leap year\n",
      "2044 is leap year\n",
      "2048 is leap year\n",
      "2052 is leap year\n",
      "2056 is leap year\n",
      "2060 is leap year\n",
      "2064 is leap year\n",
      "2068 is leap year\n",
      "2072 is leap year\n",
      "2076 is leap year\n",
      "2080 is leap year\n",
      "2084 is leap year\n",
      "2088 is leap year\n",
      "2092 is leap year\n",
      "2096 is leap year\n",
      "2100 is leap year\n"
     ]
    }
   ],
   "source": [
    "for year in range (1900,2101):\n",
    "    if(year%4==0 or (year%100!=0 and year%400==0)):\n",
    "       print(\"{} is leap year\".format(year))"
   ]
  },
  {
   "cell_type": "markdown",
   "metadata": {},
   "source": [
    "**Q. Display the sum of series till the value of n given by user <br>\n",
    "<sup>1</sup>&frasl;<sub>1<sup>2</sup></sub>+<sup>1</sup>&frasl;<sub>2<sup>2</sup></sub>+<sup>1</sup>&frasl;<sub>3<sup>2</sup></sub>+..............+<sup>1</sup>&frasl;<sub>n<sup>2</sup></sub>**"
   ]
  },
  {
   "cell_type": "code",
   "execution_count": 7,
   "metadata": {},
   "outputs": [
    {
     "name": "stdin",
     "output_type": "stream",
     "text": [
      "enter n 5\n"
     ]
    },
    {
     "name": "stdout",
     "output_type": "stream",
     "text": [
      "1.4636111111111112\n"
     ]
    }
   ],
   "source": [
    "sum=0\n",
    "n=int(input(\"enter n\"))\n",
    "for num in range(1,n+1):\n",
    "    sum=sum+num**(-2)\n",
    "print(sum)"
   ]
  },
  {
   "cell_type": "markdown",
   "metadata": {},
   "source": [
    "**Q. WAP to sum all the squares of even numbers uptil n and including n.**"
   ]
  },
  {
   "cell_type": "code",
   "execution_count": 8,
   "metadata": {},
   "outputs": [
    {
     "name": "stdin",
     "output_type": "stream",
     "text": [
      "enter n 5\n"
     ]
    },
    {
     "name": "stdout",
     "output_type": "stream",
     "text": [
      "20\n"
     ]
    }
   ],
   "source": [
    "n=int(input(\"enter n\"))\n",
    "sum=0\n",
    "for num in range(1,n+1):\n",
    "    if(num%2==0):\n",
    "        sum=sum+(num**2)\n",
    "print(sum)     "
   ]
  },
  {
   "cell_type": "markdown",
   "metadata": {},
   "source": [
    "**Q. WAP which will find all such numbers which are divisible by 7 but are not multiple of 5 between 2000 to 3200 both inclusive.**"
   ]
  },
  {
   "cell_type": "code",
   "execution_count": 1,
   "metadata": {},
   "outputs": [
    {
     "name": "stdout",
     "output_type": "stream",
     "text": [
      "2002 2009 2016 2023 2037 2044 2051 2058 2072 2079 2086 2093 2107 2114 2121 2128 2142 2149 2156 2163 2177 2184 2191 2198 2212 2219 2226 2233 2247 2254 2261 2268 2282 2289 2296 2303 2317 2324 2331 2338 2352 2359 2366 2373 2387 2394 2401 2408 2422 2429 2436 2443 2457 2464 2471 2478 2492 2499 2506 2513 2527 2534 2541 2548 2562 2569 2576 2583 2597 2604 2611 2618 2632 2639 2646 2653 2667 2674 2681 2688 2702 2709 2716 2723 2737 2744 2751 2758 2772 2779 2786 2793 2807 2814 2821 2828 2842 2849 2856 2863 2877 2884 2891 2898 2912 2919 2926 2933 2947 2954 2961 2968 2982 2989 2996 3003 3017 3024 3031 3038 3052 3059 3066 3073 3087 3094 3101 3108 3122 3129 3136 3143 3157 3164 3171 3178 3192 3199 "
     ]
    }
   ],
   "source": [
    "for num in range(2000,3201):\n",
    "    if num%7==0 and num%5!=0:\n",
    "        print(num,end=\" \")"
   ]
  },
  {
   "cell_type": "markdown",
   "metadata": {},
   "source": [
    "**Q. Print and calculate according to the formula <br>\n",
    "&radic;<span style=\"text-decoration:overline\"><sup>2CD</sup>&frasl;<sub>H</sub></span><br>\n",
    "where C=50,H=30<br>\n",
    "D is a variable whose value should be given as input by user.<br>\n",
    "Sample input: 100,150,180<br>\n",
    "Sample output: 18,22,24<br>\n",
    "Output should be comma separated sequence** \n"
   ]
  },
  {
   "cell_type": "code",
   "execution_count": 7,
   "metadata": {},
   "outputs": [
    {
     "name": "stdin",
     "output_type": "stream",
     "text": [
      " 100,150,180\n"
     ]
    },
    {
     "name": "stdout",
     "output_type": "stream",
     "text": [
      "18,22,24\n"
     ]
    }
   ],
   "source": [
    "usr_input=input().split(\",\")\n",
    "output=[]\n",
    "c=50\n",
    "h=30\n",
    "for num in usr_input:\n",
    "    d=int(num)\n",
    "    ans=((2*c*d)/h)**0.5\n",
    "    output.append(str(int(ans)))\n",
    "print(\",\".join(output))"
   ]
  },
  {
   "cell_type": "markdown",
   "metadata": {},
   "source": [
    "**Q. WAP that prints the following pattern:<br>\n",
    "A<br>\n",
    "A B<br>\n",
    "A B C<br>\n",
    "A B C D<br>\n",
    "A B C D E<br>**"
   ]
  },
  {
   "cell_type": "code",
   "execution_count": 4,
   "metadata": {},
   "outputs": [
    {
     "name": "stdin",
     "output_type": "stream",
     "text": [
      "Enter number of rows to print 5\n"
     ]
    },
    {
     "name": "stdout",
     "output_type": "stream",
     "text": [
      "A \n",
      "A B \n",
      "A B C \n",
      "A B C D \n",
      "A B C D E \n"
     ]
    }
   ],
   "source": [
    "usr_rows=int(input(\"Enter number of rows to print\"))\n",
    "for i in range(1,usr_rows+1):\n",
    "    a=\"A\"\n",
    "    b=ord(a)\n",
    "    for j in range(i):\n",
    "        \n",
    "        print(chr(b),end=\" \")\n",
    "        \n",
    "        b=b+1\n",
    "        \n",
    "    print()"
   ]
  },
  {
   "cell_type": "markdown",
   "metadata": {},
   "source": [
    "## String and List Based Questions"
   ]
  },
  {
   "cell_type": "markdown",
   "metadata": {},
   "source": [
    "**Q. WAP that accepts comma separated words as input and return them in comma separated sequence after sorting them.<br>\n",
    "Input: without,hello,world,zipper<br>\n",
    "Output: hello,without,world,zipper**"
   ]
  },
  {
   "cell_type": "code",
   "execution_count": 5,
   "metadata": {},
   "outputs": [
    {
     "name": "stdin",
     "output_type": "stream",
     "text": [
      " without,hello,world,zipper\n"
     ]
    },
    {
     "name": "stdout",
     "output_type": "stream",
     "text": [
      "hello,without,world,zipper\n"
     ]
    }
   ],
   "source": [
    "usr_str=input()\n",
    "listed=usr_str.split(',')\n",
    "n=len(listed)\n",
    "\n",
    "i=0\n",
    "j=0\n",
    "while (i<n):\n",
    "    j=0\n",
    "    while(j<n-1):\n",
    "        if(listed[j]>listed[j+1]):\n",
    "            temp=listed[j]\n",
    "            listed[j]=listed[j+1]\n",
    "            listed[j+1]=temp\n",
    "        j+=1\n",
    "    i+=1\n",
    "        \n",
    "print(\",\".join(listed))"
   ]
  },
  {
   "cell_type": "markdown",
   "metadata": {},
   "source": [
    "**Q. WAP to generate Abecedarian series .It is a series or list in which the elements appear in the aplhabetical order.<br>\n",
    "Example:<br>Input string 1: 'ABCDEFGH'<br>\n",
    "Input string 2: 'ate'<br>\n",
    "Output: 'Aate Bate Cate'**"
   ]
  },
  {
   "cell_type": "code",
   "execution_count": 6,
   "metadata": {},
   "outputs": [
    {
     "name": "stdin",
     "output_type": "stream",
     "text": [
      "enter first string joined ABCDEFGH\n",
      "enter second string ate\n"
     ]
    },
    {
     "name": "stdout",
     "output_type": "stream",
     "text": [
      "Aate Bate Cate Date Eate Fate Gate Hate\n"
     ]
    }
   ],
   "source": [
    "abc=input(\"enter first string joined\")\n",
    "x=input(\"enter second string\")\n",
    "a=list(abc)\n",
    "j=0\n",
    "#M and n are iterators\n",
    "m=0\n",
    "n=0\n",
    "z=len(a)\n",
    "#sorting list a\n",
    "while m < z:\n",
    "    n=0\n",
    "    while(n<z-1):\n",
    "        if(a[n] > a[n+1]):\n",
    "            temp=a[n]\n",
    "            a[n]=a[n+1]\n",
    "            a[n+1]=temp\n",
    "        n+=1\n",
    "    m+=1\n",
    "#combining elements from list a and x\n",
    "for i in a:\n",
    "    i=i+str(x)\n",
    "    a[j]=i\n",
    "    j+=1\n",
    "print(\" \".join(a))"
   ]
  },
  {
   "cell_type": "markdown",
   "metadata": {},
   "source": [
    "**Q. WAP that accepts string from user and redisplays the same string after removing all the vowels from it.**"
   ]
  },
  {
   "cell_type": "code",
   "execution_count": 8,
   "metadata": {},
   "outputs": [
    {
     "name": "stdin",
     "output_type": "stream",
     "text": [
      " My Name is Aayush Gandhi\n"
     ]
    },
    {
     "name": "stdout",
     "output_type": "stream",
     "text": [
      "My Nm s ysh Gndh\n"
     ]
    }
   ],
   "source": [
    "usr_str = input()\n",
    "vowels = ['a','A','E','e','I','i','O','o','U','u']\n",
    "new_list=[]\n",
    "for letter in usr_str:\n",
    "    if letter in vowels:\n",
    "        continue;\n",
    "    else:\n",
    "        new_list.append(letter)\n",
    "print(\"\".join(new_list))"
   ]
  },
  {
   "cell_type": "markdown",
   "metadata": {},
   "source": [
    "**Q. Wap to count the number of characters (character frequency) in a string.\n",
    "Expected result: {'0':3,'g':2,'.':1}**"
   ]
  },
  {
   "cell_type": "code",
   "execution_count": 15,
   "metadata": {},
   "outputs": [
    {
     "name": "stdin",
     "output_type": "stream",
     "text": [
      " google.com\n"
     ]
    },
    {
     "name": "stdout",
     "output_type": "stream",
     "text": [
      "['g:2', 'o:3', 'o:3', 'g:2', 'l:1', 'e:1', '.:1', 'c:1', 'o:3', 'm:1']\n"
     ]
    }
   ],
   "source": [
    "usr_str=input()\n",
    "usr_list=[]\n",
    "l = []\n",
    "#count char and make a string with char and its count\n",
    "for char in usr_str:\n",
    "    a=char+\":\"+ str(usr_str.count(char))\n",
    "    usr_list.append(a)\n",
    "#output is not ideal as all of it is a string\n",
    "if(str(usr_list) not in l):\n",
    "    print(str(usr_list))\n",
    "    #l.append(str(usr_list))\n",
    "\n"
   ]
  },
  {
   "cell_type": "markdown",
   "metadata": {},
   "source": [
    "**Q. Wap to get a string from a given string where all occurances of its first character have been changed to $ $ ( dollar) except the first character itself.\n",
    "Sample string: -'restart'\n",
    "o/p- 'resta$t'**"
   ]
  },
  {
   "cell_type": "code",
   "execution_count": 3,
   "metadata": {},
   "outputs": [
    {
     "name": "stdin",
     "output_type": "stream",
     "text": [
      " rreesst\n"
     ]
    },
    {
     "name": "stdout",
     "output_type": "stream",
     "text": [
      "r$eesst\n"
     ]
    }
   ],
   "source": [
    "usr_str=input()\n",
    "op_str=\"\"\n",
    "changer=usr_str[0]\n",
    "op_str=changer\n",
    "for char in usr_str[1:]:\n",
    "    if(char==changer):\n",
    "        char='$'\n",
    "        op_str=op_str+char\n",
    "    else:\n",
    "        op_str=op_str+char\n",
    "print(op_str)\n",
    "    \n",
    "    \n"
   ]
  },
  {
   "cell_type": "markdown",
   "metadata": {},
   "source": [
    "**Q. Wap to change a given string to a new string where the first and last chars have been exchanged**"
   ]
  },
  {
   "cell_type": "code",
   "execution_count": null,
   "metadata": {},
   "outputs": [],
   "source": [
    "usr_str=input()\n",
    "op_str=\"\"\n",
    "first=usr_str[0]\n",
    "last=usr_str[len(usr_str)-1]\n",
    "\n",
    "op_str=last+usr_str[1:len(usr_str)-1]+first\n",
    "print(op_str)"
   ]
  },
  {
   "cell_type": "markdown",
   "metadata": {},
   "source": [
    "**Q. Wap that accepts a comma separted sequence of words as inputs and prints the unique words in sorted form (alphanumerically)\n",
    "I/O- red,white,black,red,green,black\n",
    "O/P- black,green**"
   ]
  },
  {
   "cell_type": "code",
   "execution_count": 1,
   "metadata": {},
   "outputs": [
    {
     "name": "stdin",
     "output_type": "stream",
     "text": [
      " red,white,black,red,green,black\n"
     ]
    },
    {
     "name": "stdout",
     "output_type": "stream",
     "text": [
      "black,black,green,red,red,white\n"
     ]
    }
   ],
   "source": [
    "usr_str=input()\n",
    "usr_list=[]\n",
    "usr_list=sorted(usr_str.split(','))\n",
    "print(','.join(usr_list))\n",
    "\n"
   ]
  },
  {
   "cell_type": "markdown",
   "metadata": {},
   "source": [
    "**Q. WAp to capatilize first and last letter of each word of a given string\n",
    "i/o- 'the quick brown fox jumps over the lazy dog'\n",
    "o/p- 'ThE QuicK BrowN FoX JumpS OveR ThE LazY DoG'**"
   ]
  },
  {
   "cell_type": "code",
   "execution_count": 16,
   "metadata": {},
   "outputs": [
    {
     "name": "stdin",
     "output_type": "stream",
     "text": [
      " the quick\n"
     ]
    },
    {
     "name": "stdout",
     "output_type": "stream",
     "text": [
      "the quick\n"
     ]
    }
   ],
   "source": [
    "#Wrong self code\n",
    "usr_str=input()\n",
    "word_list=[]\n",
    "usr_list=usr_str.split()\n",
    "for word in usr_list:\n",
    "    word=list(word)\n",
    "    \n",
    "    word[0]=word[0].capitalize()\n",
    "    \n",
    "    word[len(word)-1]=word[len(word)-1].capitalize()\n",
    "print(' '.join(usr_list))\n",
    "    "
   ]
  },
  {
   "cell_type": "code",
   "execution_count": 2,
   "metadata": {},
   "outputs": [
    {
     "name": "stdin",
     "output_type": "stream",
     "text": [
      " the quick brown fox jumps over the lazy dog\n"
     ]
    },
    {
     "name": "stdout",
     "output_type": "stream",
     "text": [
      "ThE QuicK BrowN FoX JumpS OveR ThE LazY DoG\n"
     ]
    }
   ],
   "source": [
    "#proper code\n",
    "usr_str=input()\n",
    "a=\"\"\n",
    "b=\"\"\n",
    "word_list=[]\n",
    "usr_list=usr_str.split()\n",
    "for word in usr_list:\n",
    "    a=word[0].capitalize()\n",
    "    b=word[len(word)-1].capitalize()\n",
    "    c=a+word[1:len(word)-1]+b\n",
    "    word_list.append(c)\n",
    "print(' '.join(word_list))\n"
   ]
  },
  {
   "cell_type": "markdown",
   "metadata": {},
   "source": [
    "**Q. sort list and return the sorted list in ascending and descending order using sort and sorted**"
   ]
  },
  {
   "cell_type": "code",
   "execution_count": 3,
   "metadata": {},
   "outputs": [
    {
     "name": "stdin",
     "output_type": "stream",
     "text": [
      " 5,10,15,2,3,4,1,2\n"
     ]
    },
    {
     "name": "stdout",
     "output_type": "stream",
     "text": [
      "['5', '10', '15', '2', '3', '4', '1', '2']\n",
      "new_list\n",
      " ['1', '10', '15', '2', '2', '3', '4', '5'] usr_list\n",
      " ['5', '10', '15', '2', '3', '4', '1', '2']\n",
      "\n",
      " ['1', '10', '15', '2', '2', '3', '4', '5']\n"
     ]
    }
   ],
   "source": [
    "usr_input=input()\n",
    "usr_list=usr_input.split(',')\n",
    "print(usr_list)\n",
    "new_list=sorted(usr_list)\n",
    "print(\"new_list\\n\",new_list,\"usr_list\\n\",usr_list)\n",
    "usr_list.sort()\n",
    "print(\"\\n\",usr_list)\n",
    "      \n"
   ]
  },
  {
   "cell_type": "markdown",
   "metadata": {},
   "source": [
    "**Q. WAP to create list of numbers divisible by 4 or 13.All the elements of the list should lie in the range from 200 to 500.**"
   ]
  },
  {
   "cell_type": "code",
   "execution_count": 4,
   "metadata": {},
   "outputs": [
    {
     "name": "stdout",
     "output_type": "stream",
     "text": [
      "[200, 204, 208, 212, 216, 220, 221, 224, 228, 232, 234, 236, 240, 244, 247, 248, 252, 256, 260, 264, 268, 272, 273, 276, 280, 284, 286, 288, 292, 296, 299, 300, 304, 308, 312, 316, 320, 324, 325, 328, 332, 336, 338, 340, 344, 348, 351, 352, 356, 360, 364, 368, 372, 376, 377, 380, 384, 388, 390, 392, 396, 400, 403, 404, 408, 412, 416, 420, 424, 428, 429, 432, 436, 440, 442, 444, 448, 452, 455, 456, 460, 464, 468, 472, 476, 480, 481, 484, 488, 492, 494, 496, 500]\n"
     ]
    }
   ],
   "source": [
    "list_div=[]\n",
    "for number in range(200,501):\n",
    "    if(number%4==0 or number%13==0):\n",
    "        list_div.append(number)\n",
    "print(list_div)"
   ]
  },
  {
   "cell_type": "markdown",
   "metadata": {},
   "source": [
    "**Q. Wap to create a list of numbers from 1-10 ,delete all the even positions and print the final list.**"
   ]
  },
  {
   "cell_type": "code",
   "execution_count": 11,
   "metadata": {},
   "outputs": [
    {
     "name": "stdout",
     "output_type": "stream",
     "text": [
      "[1, 2, 3, 4, 5, 6, 7, 8, 9, 10]\n",
      "[1, 3, 5, 7, 9]\n"
     ]
    }
   ],
   "source": [
    "list_num = []\n",
    "for number in range(1,11):\n",
    "    list_num.append(number)\n",
    "print(list_num)\n",
    "for number in list_num:\n",
    "#goes out of bound if range function used\n",
    "    if number%2==0:\n",
    "#goes out of bound if pop method is used\n",
    "        list_num.remove(number)\n",
    "    \n",
    "print(list_num)"
   ]
  },
  {
   "cell_type": "markdown",
   "metadata": {},
   "source": [
    "**Q. Wap to print index at which particular value exists .If the value exists at multiple locations in the list then,print all the indexes,also count the number of times the value is repeated in the list**"
   ]
  },
  {
   "cell_type": "code",
   "execution_count": 17,
   "metadata": {},
   "outputs": [
    {
     "name": "stdin",
     "output_type": "stream",
     "text": [
      "Enter the list 1,2,1,3\n",
      "enter char to find 1\n"
     ]
    },
    {
     "name": "stdout",
     "output_type": "stream",
     "text": [
      "0\n",
      "2\n",
      "2\n"
     ]
    }
   ],
   "source": [
    "usr_input=input(\"Enter the list\")\n",
    "usr_list=usr_input.split(',')\n",
    "choice=input(\"enter char to find\")\n",
    "counter=0\n",
    "for element in usr_list:\n",
    "    a=0\n",
    "    if element==choice:\n",
    "        a=usr_list.index(element)\n",
    "        print(a)\n",
    "        counter=counter+1\n",
    "        usr_list[a]='$'\n",
    "print(counter)"
   ]
  },
  {
   "cell_type": "markdown",
   "metadata": {},
   "source": [
    "**Q. Wap that creates a list of words by combining words in two individual lists**  \n",
    "I/P- ['Sarthak','Arnav','Anmol']  \n",
    "['Arya','Gandhi','Sharma']  \n",
    "O/P- ['Sarthak Arya','Arnav Gandhi','Anmol Sharma']"
   ]
  },
  {
   "cell_type": "raw",
   "metadata": {},
   "source": [
    "#not for non equal lists\n",
    "first=input().split(',')\n",
    "last=input().split(',')\n",
    "ans=[]\n",
    "for i in range(len(first)):\n",
    "    #ans[i].append(first[i]+last[i])\n",
    "    ans=ans+[(first[i]+last[i])]\n",
    "print(ans)\n",
    "    "
   ]
  },
  {
   "cell_type": "code",
   "execution_count": 11,
   "metadata": {},
   "outputs": [
    {
     "name": "stdin",
     "output_type": "stream",
     "text": [
      " Sarthak,Arnav,Anmol\n",
      " Arya,Gandhi,Sharma\n"
     ]
    },
    {
     "name": "stdout",
     "output_type": "stream",
     "text": [
      "['Sarthak Arya', 'Arnav Gandhi', 'Anmol Sharma']\n"
     ]
    }
   ],
   "source": [
    "#works on non equal lists\n",
    "first=input().split(',')\n",
    "last=input().split(',')\n",
    "for i,word in enumerate(last):\n",
    "    first[i]=first[i]+\" \"+word\n",
    "print(first)"
   ]
  },
  {
   "cell_type": "markdown",
   "metadata": {},
   "source": [
    "**Q. Form a list of first chars of every word in another list**\n",
    "**second part-case insensitive ,the resulting list should have unique same case elements**\n",
    "['Hello','Python','Jython','java','C++']  \n",
    "['H','P','J','j','C']\n"
   ]
  },
  {
   "cell_type": "code",
   "execution_count": 18,
   "metadata": {},
   "outputs": [
    {
     "name": "stdin",
     "output_type": "stream",
     "text": [
      " Hello,Python,Jython,java,C++\n"
     ]
    },
    {
     "name": "stdout",
     "output_type": "stream",
     "text": [
      "['H', 'P', 'J', 'j', 'C']\n",
      "['H', 'P', 'J', 'C']\n"
     ]
    }
   ],
   "source": [
    "usr_input=input().split(',')\n",
    "op=[]\n",
    "op2=[]\n",
    "for word in usr_input:\n",
    "    op=op+[word[0]]\n",
    "print(op)\n",
    "#to del non unique elements\n",
    "for i in range(len(op)):\n",
    "#converts all letter by letter to upper case\n",
    "    op[i]=op[i].upper()\n",
    "#checks if element in op exists in new op2 or not and appends if not!\n",
    "    if(op[i] not in op2):\n",
    "        op2.append(op[i])\n",
    "print(op2)\n",
    "     \n",
    "    \n",
    "    \n",
    "    \n",
    "\n"
   ]
  },
  {
   "cell_type": "markdown",
   "metadata": {},
   "source": [
    "**Q. Create a list of numbers until user enters '@' ,create a list of the given list such that no duplicate enteries exist**"
   ]
  },
  {
   "cell_type": "code",
   "execution_count": 24,
   "metadata": {},
   "outputs": [
    {
     "name": "stdin",
     "output_type": "stream",
     "text": [
      " 45\n",
      " 10\n",
      " 45\n",
      " 10\n",
      " @\n"
     ]
    },
    {
     "name": "stdout",
     "output_type": "stream",
     "text": [
      "['45', '10', '45', '10']\n",
      "['45', '10']\n"
     ]
    }
   ],
   "source": [
    "a=input()\n",
    "usr_list=[]\n",
    "\n",
    "while(a!='@'):\n",
    "    usr_list.append(a)\n",
    "    a=input()\n",
    "print(usr_list)\n",
    "unique=[]\n",
    "for i in range(len(usr_list)):\n",
    "    if(usr_list[i] not in unique):\n",
    "        unique.append(usr_list[i])\n",
    "print(unique)"
   ]
  },
  {
   "cell_type": "markdown",
   "metadata": {},
   "source": [
    "**Q. Create a list of numbers in the specified range as entered by the user ,reverse the list and print its values . Also take an input of the number of steps**\n",
    "n:4  \n",
    "m:16  \n",
    "steps:3  \n",
    "[4,7.........16]"
   ]
  },
  {
   "cell_type": "code",
   "execution_count": 21,
   "metadata": {},
   "outputs": [
    {
     "name": "stdin",
     "output_type": "stream",
     "text": [
      " 4\n",
      " 16\n",
      " 3\n"
     ]
    },
    {
     "name": "stdout",
     "output_type": "stream",
     "text": [
      "[16, 13, 10, 7, 4]\n"
     ]
    }
   ],
   "source": [
    "n=int(input())\n",
    "m=int(input())\n",
    "steps=int(input())\n",
    "list_op=[]\n",
    "for i in range(n,m+1,steps):\n",
    "    list_op.append(i)\n",
    "list_op.reverse()\n",
    "print(list_op)\n",
    "    "
   ]
  },
  {
   "cell_type": "markdown",
   "metadata": {},
   "source": [
    "**Q. WAP to add 2 matrixes using lists**"
   ]
  },
  {
   "cell_type": "code",
   "execution_count": 7,
   "metadata": {},
   "outputs": [
    {
     "name": "stdin",
     "output_type": "stream",
     "text": [
      " 1,2,3\n",
      " 1,2\n"
     ]
    },
    {
     "name": "stdout",
     "output_type": "stream",
     "text": [
      "[2, 4, 3]\n"
     ]
    }
   ],
   "source": [
    "matrix1=input().split(\",\")\n",
    "matrix2=input().split(\",\")\n",
    "a=len(matrix1)\n",
    "b=len(matrix2)\n",
    "for i in range(a):\n",
    "    matrix1[i]=int(matrix1[i])\n",
    "    if(i<b):\n",
    "        matrix1[i]=int(matrix1[i])+int(matrix2[i])\n",
    "print(matrix1)"
   ]
  },
  {
   "cell_type": "markdown",
   "metadata": {},
   "source": [
    "**Q. Wap to get n copies of the first m characters of the given string. Return the n copies of the whole string, if the entire string is of length 2 <br>\n",
    "i/p: \"scholar\"<br>n:7<br>m:3<br>o/p: schschschschschschsch<br>\"Im\"<br>n:8<br>m:3**                                                          "
   ]
  },
  {
   "cell_type": "code",
   "execution_count": 2,
   "metadata": {},
   "outputs": [
    {
     "name": "stdin",
     "output_type": "stream",
     "text": [
      " Im\n",
      "enter number of repetitions 8\n",
      "enter size 3\n"
     ]
    },
    {
     "name": "stdout",
     "output_type": "stream",
     "text": [
      "ImImImImImImImIm\n"
     ]
    }
   ],
   "source": [
    "usr_input=input()\n",
    "length=len(usr_input)\n",
    "usr_repeat=int(input(\"enter number of repetitions\"))\n",
    "usr_size=int(input(\"enter size\"))\n",
    "if (length>usr_size):\n",
    "    new_str=usr_input[:usr_size]\n",
    "    print(new_str*usr_repeat)\n",
    "else:\n",
    "    print(usr_input*usr_repeat)"
   ]
  },
  {
   "cell_type": "code",
   "execution_count": 9,
   "metadata": {},
   "outputs": [
    {
     "name": "stdin",
     "output_type": "stream",
     "text": [
      "enter list 1,4,5,3\n",
      "enter char $\n"
     ]
    },
    {
     "name": "stdout",
     "output_type": "stream",
     "text": [
      "$\n",
      "$$$$\n",
      "$$$$$\n",
      "$$$\n"
     ]
    }
   ],
   "source": [
    "\"\"\"Q. Mathematics teacher has given a task to generate a histogram from the given list of integers. Take the input of a character using which histogram has to be produced ?\n",
    "I/p : List[1,4,5,3]<br>\n",
    "character: $ \n",
    "$ \n",
    "$$$$\n",
    "$$$$$\n",
    "$$$ \"\"\"\n",
    "usr_list=input(\"enter list\").split(\",\")\n",
    "usr_char=input(\"enter char\")\n",
    "for element in usr_list:\n",
    "    for i in range(int(element)):\n",
    "        print(usr_char,end=\"\")\n",
    "    print(\"\")"
   ]
  },
  {
   "cell_type": "markdown",
   "metadata": {},
   "source": [
    "**Q. Wap to find unique triplets whose sum give zero from an array of n elements**"
   ]
  },
  {
   "cell_type": "code",
   "execution_count": null,
   "metadata": {},
   "outputs": [],
   "source": [
    " "
   ]
  },
  {
   "cell_type": "markdown",
   "metadata": {},
   "source": [
    "**Q. WAP which accepts a sequence of comma separated 4 digit binary number as its input. And check whether they are divisible by 5 or not? The numbers that are divisible by 5 are to printed as comma separated sequence.   \n",
    "i/p 0100,1010,0011,1001    \n",
    "o/p 1010**"
   ]
  },
  {
   "cell_type": "code",
   "execution_count": 25,
   "metadata": {},
   "outputs": [
    {
     "name": "stdin",
     "output_type": "stream",
     "text": [
      " 0100,1010,0011,1001\n"
     ]
    },
    {
     "name": "stdout",
     "output_type": "stream",
     "text": [
      "4\n",
      "10\n",
      "3\n",
      "9\n",
      "1010\n"
     ]
    }
   ],
   "source": [
    "usr_binary=input().split(\",\")\n",
    "list_op=[]\n",
    "for element in usr_binary:\n",
    "    usr_dec=int(element,2)\n",
    "    print(usr_dec)\n",
    "    if(usr_dec%5==0):\n",
    "        list_op.append((bin(usr_dec).replace(\"0b\",\"\")))\n",
    "print(\",\".join(list_op))"
   ]
  },
  {
   "cell_type": "markdown",
   "metadata": {},
   "source": [
    "**Q. WAP using nested list of tuple to store proper details and edit the details and reprint the details.\n",
    "The output should be in the required format <br>\n",
    "If user enter Y -edit info <br>\n",
    "enter the name of the student whose details are to be edited<br>\n",
    "enter correct name,course and percentage<br>\n",
    "Sample input: Toppers = [('Arnav,'Bsc',92),('ABC','Btech',98.7),('CDE','BSC-HM',82.7)]<br>\n",
    "o/p: ('Arnav','BSC',92)<br>\n",
    "     ('ABC','Btech',98.7)<br>\n",
    "     ('CDE','BSC-HM',82.7)<br>\n",
    "whether you want to edit info : Y <br>\n",
    "Name: ABC<br>\n",
    "GAMER<br>\n",
    "Gaming<br>\n",
    "95%**\n"
   ]
  },
  {
   "cell_type": "code",
   "execution_count": 4,
   "metadata": {},
   "outputs": [
    {
     "name": "stdin",
     "output_type": "stream",
     "text": [
      "enter 'y' to enter info, 'n' to exit and print y\n"
     ]
    },
    {
     "name": "stdout",
     "output_type": "stream",
     "text": [
      "('Arnav', 'Bsc', 92)\n",
      "('ABC', 'Btech', 98.7)\n",
      "('CDE', 'BSC-HM', 82.7)\n"
     ]
    },
    {
     "name": "stdin",
     "output_type": "stream",
     "text": [
      "enter name to be found ABC\n",
      " Aayush\n",
      " DATA SCIENCE\n",
      " 95\n"
     ]
    },
    {
     "name": "stdout",
     "output_type": "stream",
     "text": [
      "('Arnav', 'Bsc', 92)\n",
      "('Aayush', 'DATA SCIENCE', '95')\n",
      "('CDE', 'BSC-HM', 82.7)\n"
     ]
    }
   ],
   "source": [
    "default_list=[('Arnav','Bsc',92),('ABC','Btech',98.7),('CDE','BSC-HM',82.7)]\n",
    "char=input(\"enter 'y' to enter info, 'n' to exit and print\")\n",
    "for x in default_list:\n",
    "    print(x)\n",
    "list2=[list(x) for x in default_list]\n",
    "if char==\"y\":\n",
    "    name=input(\"enter name to be found\")\n",
    "    for i in list2:\n",
    "        if i[0]==name:\n",
    "            i[0]=input()\n",
    "            i[1]=input()\n",
    "            i[2]=input()\n",
    "for x in list2:\n",
    "    print(tuple(x))\n",
    "        \n",
    "\n",
    "    \n",
    "               "
   ]
  },
  {
   "cell_type": "markdown",
   "metadata": {},
   "source": [
    "**Q. You are required to write a program to sort the name,age,height tuples by ascending order , where name is a string , height and age are numbers.The sorting criteria is <br>\n",
    "1)sort based on name <br>\n",
    "2)sort based on age <br>\n",
    "3)sort by height <br>**"
   ]
  },
  {
   "cell_type": "markdown",
   "metadata": {},
   "source": [
    "**Q. Taking input of a default paragraph ,print frequency of each word**"
   ]
  },
  {
   "cell_type": "code",
   "execution_count": 4,
   "metadata": {},
   "outputs": [
    {
     "name": "stdout",
     "output_type": "stream",
     "text": [
      "{'Hello': 1, 'my': 3, 'name': 1, 'is': 2, 'aayush': 4, 'and': 2, 'I': 1, 'secret': 1, 'crush': 1, 'on': 1, 'Python': 1, 'language': 1}\n"
     ]
    }
   ],
   "source": [
    "default_para=\"Hello my name is aayush and I my secret is crush on Python language and my aayush aayush aayush\"\n",
    "default_list=default_para.split(\" \")\n",
    "my_dic={}\n",
    "for word in default_list:\n",
    "    if word not in my_dic.keys():\n",
    "        count=default_list.count(word)\n",
    "        my_dic[word]=count\n",
    "print(my_dic)\n",
    "    \n",
    "    "
   ]
  },
  {
   "cell_type": "markdown",
   "metadata": {},
   "source": [
    "## Sets "
   ]
  },
  {
   "cell_type": "markdown",
   "metadata": {},
   "source": [
    "**Q. Wap that generates a set of odd numbers using list comprehensions in the range of 1-20.\n",
    "Now generate set of prime numbers . Demonstrate the result of union, intersection, difference and symmetric difference**"
   ]
  },
  {
   "cell_type": "code",
   "execution_count": 22,
   "metadata": {},
   "outputs": [
    {
     "name": "stdout",
     "output_type": "stream",
     "text": [
      "Set of odd numbers is \n",
      " {1, 3, 5, 7, 9, 11, 13, 15, 17, 19}\n",
      "Set of prime numbers is\n",
      " {2, 3, 5, 7, 11, 13, 17, 19}\n",
      "Union\n",
      " {1, 2, 3, 5, 7, 9, 11, 13, 15, 17, 19}\n",
      "Intersection\n",
      " {3, 5, 7, 11, 13, 17, 19}\n",
      "difference\n",
      " {1, 9, 15}\n",
      "Symmetric difference\n",
      " {1, 2, 9, 15}\n"
     ]
    }
   ],
   "source": [
    "S=set([x for x in range(1,21) if x%2==1])\n",
    "print(\"Set of odd numbers is \\n\",S)\n",
    "T=set([x for x in range(2, 21)if all(x % y != 0 for y in range(2, x))])\n",
    "print(\"Set of prime numbers is\\n\",T)\n",
    "A=S.union(T)\n",
    "print(\"Union\\n\",A)\n",
    "B=S.intersection(T)\n",
    "print(\"Intersection\\n\",B)\n",
    "C=S.difference(T)\n",
    "print(\"difference\\n\",C)\n",
    "D=S.symmetric_difference(T)\n",
    "print(\"Symmetric difference\\n\",D)\n"
   ]
  },
  {
   "cell_type": "markdown",
   "metadata": {},
   "source": [
    "**Wap that generates 2 sets ,one of even numbers ,in the range 1-10 and other of all composite numbers in the range of 1-20 .Demonstate All(),issuperset(),len() and sum() functions.**"
   ]
  },
  {
   "cell_type": "code",
   "execution_count": 50,
   "metadata": {},
   "outputs": [
    {
     "name": "stdout",
     "output_type": "stream",
     "text": [
      "{2, 4, 6, 8, 10}\n",
      "{2, 3, 5, 7}\n",
      "{4, 6, 8, 9, 10}\n",
      "True\n",
      "False\n",
      "5\n",
      "30\n"
     ]
    }
   ],
   "source": [
    "S_even=set([x for x in range(1,11) if x%2==0])\n",
    "#creating a set S_prime and then substracting it fromset S which is universal set to get composite numbers except 1\n",
    "S_prime=set([x for x in range(2,11) if all(x%y!=0 for y in range(2,x))])\n",
    "S=set(x for x in range(2,11))\n",
    "S_composite=S-S_prime\n",
    "print(S_even)\n",
    "print(S_prime)\n",
    "print(S_composite)\n",
    "A=all(S_even)\n",
    "print(A)\n",
    "B=S_composite.issuperset(S_even)\n",
    "print(B)\n",
    "print(len(S_composite))\n",
    "print(sum(S_even))"
   ]
  },
  {
   "cell_type": "markdown",
   "metadata": {},
   "source": [
    "**Q.create 2 sets of squares and cubes in the range 1-10. Demonstrate the use of update,pop,remove,and clear function.**\n"
   ]
  },
  {
   "cell_type": "code",
   "execution_count": 66,
   "metadata": {},
   "outputs": [
    {
     "name": "stdout",
     "output_type": "stream",
     "text": [
      "Square set is ------\n",
      " {64, 1, 4, 36, 100, 9, 16, 49, 81, 25}\n",
      "cube set is ------\n",
      " {64, 1, 512, 8, 1000, 343, 216, 729, 27, 125}\n",
      "UPDATED Square set is ------\n",
      " {64, 1, 512, 4, 8, 9, 16, 81, 343, 216, 25, 729, 27, 36, 100, 1000, 49, 125}\n",
      "Popped Cube set is ------\n",
      " {1, 512, 8, 1000, 343, 216, 729, 27, 125}\n",
      "512 is now removed from Cube set-------------\n",
      " {1, 8, 1000, 343, 216, 729, 27, 125}\n",
      "Cleared cube set is ------\n",
      " set()\n"
     ]
    }
   ],
   "source": [
    "S_sq=set([x**2 for x in range(1,11)])\n",
    "S_cube=set([x**3 for x in range(1,11)])\n",
    "print(\"Square set is ------\\n\",S_sq)\n",
    "print(\"cube set is ------\\n\",S_cube)\n",
    "#update works like extend\n",
    "S_sq.update(S_cube)\n",
    "print(\"UPDATED Square set is ------\\n\",S_sq)\n",
    "#pop ki barri now\n",
    "S_cube.pop()\n",
    "print(\"Popped Cube set is ------\\n\",S_cube)\n",
    "#remove will throw error if valuenot found whereas discard will not\n",
    "S_cube.remove(512)\n",
    "print(\"512 is now removed from Cube set-------------\\n\",S_cube)\n",
    "S_cube.clear()\n",
    "print(\"Cleared cube set is ------\\n\",S_cube)\n",
    "#clear makes it an empty set again"
   ]
  },
  {
   "cell_type": "markdown",
   "metadata": {},
   "source": [
    "**Q. WAP that has a set of words in english language and the corrosponding words in hindi.Define a dictionary for it.\n",
    "Take another dictionary that has a list of words in hindi and their corrosponding words in english.Take all the words from english lang and display english to english mapping.**"
   ]
  },
  {
   "cell_type": "code",
   "execution_count": 5,
   "metadata": {},
   "outputs": [
    {
     "name": "stdout",
     "output_type": "stream",
     "text": [
      "{'namaste': 'hey', 'tata': 'goodbye'}\n"
     ]
    }
   ],
   "source": [
    "eng_hin={'hello':'namaste','bye':'tata'}\n",
    "hin_eng={'namaste':'hey','tata':'goodbye'}\n",
    "eng_eng={}\n",
    "for word in eng_hin:\n",
    "    temp=eng_hin[word]\n",
    "    temp2=hin_eng[temp]\n",
    "    eng_eng[temp]=temp2\n",
    "print(eng_eng)"
   ]
  },
  {
   "cell_type": "markdown",
   "metadata": {},
   "source": [
    "**Q. Wap that prompts the user to enter message\n",
    "count occurance of each character and generate a dictionary for it**"
   ]
  },
  {
   "cell_type": "code",
   "execution_count": 3,
   "metadata": {},
   "outputs": [
    {
     "name": "stdin",
     "output_type": "stream",
     "text": [
      " hello my name is hello my my\n"
     ]
    },
    {
     "name": "stdout",
     "output_type": "stream",
     "text": [
      "{'hello': 2, 'my': 3, 'name': 1, 'is': 1}\n"
     ]
    }
   ],
   "source": [
    "usr_input=input().split()\n",
    "op={}\n",
    "for word in usr_input:\n",
    "    if word not in op:\n",
    "        value=usr_input.count(word)\n",
    "        op[word]=value\n",
    "print(op)\n"
   ]
  },
  {
   "cell_type": "markdown",
   "metadata": {},
   "source": [
    "**Q. WAP to store a sparse matrix as a dictionary.\n",
    "1.The matrix should be entered as a default nested list.\n",
    "2.Take sparse matrix as input**"
   ]
  },
  {
   "cell_type": "markdown",
   "metadata": {},
   "source": [
    "**Q. WAP the inveretes the dictionary i.e make the key as the value and make the value as the key. And diplay both dictionary and inverted dictionary.**"
   ]
  },
  {
   "cell_type": "code",
   "execution_count": 7,
   "metadata": {},
   "outputs": [
    {
     "name": "stdin",
     "output_type": "stream",
     "text": [
      "number of items in dictionary 2\n",
      "enter key aayush\n",
      "enter value gandhi\n",
      "enter key manish\n",
      "enter value gaurav\n"
     ]
    },
    {
     "name": "stdout",
     "output_type": "stream",
     "text": [
      "The orginal dictionary is\n",
      " {'aayush': 'gandhi', 'manish': 'gaurav'}\n",
      "Reversed dic is\n",
      " {'gandhi': 'aayush', 'gaurav': 'manish'}\n"
     ]
    }
   ],
   "source": [
    "n=int(input(\"number of items in dictionary\"))\n",
    "my_dic={}\n",
    "my_reversed_dic={}\n",
    "for i in range(n):\n",
    "    key=input(\"enter key\")\n",
    "    value=input(\"enter value\")\n",
    "    my_dic[key]=value\n",
    "print(\"The orginal dictionary is\\n\",my_dic)\n",
    "for i in my_dic:\n",
    "    key=i\n",
    "    value=my_dic.get(key)\n",
    "    my_reversed_dic[value]=key\n",
    "print(\"Reversed dic is\\n\",my_reversed_dic)"
   ]
  },
  {
   "cell_type": "markdown",
   "metadata": {},
   "source": [
    "#### CLass TEST \n",
    "23/08/19<br>\n",
    "**Q. map={1:'abc',2:'def',3:'ghi',4:'jkl',5:'mno',6:'pqrs',7:'tuv',8:'wxy',9:'z'} <br>\n",
    "Sample I/O <br>\n",
    "47<br>\n",
    "Output ['jt','ji','jl','kt','ku','kv','lt','lu','lv']\n",
    "<br> generate 2 digit combinations using the input keys given .**"
   ]
  },
  {
   "cell_type": "code",
   "execution_count": 8,
   "metadata": {},
   "outputs": [
    {
     "name": "stdin",
     "output_type": "stream",
     "text": [
      " 47\n"
     ]
    },
    {
     "name": "stdout",
     "output_type": "stream",
     "text": [
      "['jt', 'ju', 'jv', 'kt', 'ku', 'kv', 'lt', 'lu', 'lv']\n"
     ]
    }
   ],
   "source": [
    "map={1:'abc',2:'def',3:'ghi',4:'jkl',5:'mno',6:'pqrs',7:'tuv',8:'wxy',9:'z'}\n",
    "usr_input=int(input())\n",
    "op=[]\n",
    "op_str=\"\"\n",
    "one=usr_input//10\n",
    "two=usr_input%10\n",
    "for letter in str(map.get(one)):\n",
    "    for let in str(map.get(two)):\n",
    "        op_str=letter+let\n",
    "        op.append(op_str)\n",
    "print(op)"
   ]
  },
  {
   "cell_type": "markdown",
   "metadata": {},
   "source": [
    "**Q. I/P: ['argument','sarcasm','monopoly','optimum'] <br>\n",
    "O/P: {'argument':{'sarcasm':{'monopoly':{'optimum': {}}}}}**"
   ]
  },
  {
   "cell_type": "code",
   "execution_count": 9,
   "metadata": {},
   "outputs": [
    {
     "name": "stdin",
     "output_type": "stream",
     "text": [
      " hello,this,is,nested\n"
     ]
    },
    {
     "name": "stdout",
     "output_type": "stream",
     "text": [
      "{'hello': {'this': {'is': {'nested': {}}}}}\n"
     ]
    }
   ],
   "source": [
    "l=input().split(\",\")\n",
    "def nestedlist(l):\n",
    "    my_dic={}\n",
    "    if l:\n",
    "        a=l[0]\n",
    "        l.remove(a)\n",
    "        my_dic[a]=nestedlist(l)\n",
    "    return my_dic\n",
    "print(nestedlist(l))\n",
    "    "
   ]
  },
  {
   "cell_type": "markdown",
   "metadata": {},
   "source": [
    "### Functions"
   ]
  },
  {
   "cell_type": "markdown",
   "metadata": {},
   "source": [
    "**Q .WAP which takes the input of first name,middle,last name and display full name**"
   ]
  },
  {
   "cell_type": "code",
   "execution_count": 2,
   "metadata": {},
   "outputs": [
    {
     "name": "stdin",
     "output_type": "stream",
     "text": [
      " Aayush\n",
      " Freaking\n",
      " Gandhi\n"
     ]
    },
    {
     "name": "stdout",
     "output_type": "stream",
     "text": [
      "Aayush Freaking Gandhi\n"
     ]
    }
   ],
   "source": [
    "first=input()\n",
    "middle=input()\n",
    "last=input()\n",
    "def namer(first,middle,last):\n",
    "    st=first+\" \"+middle+\" \"+last\n",
    "    return st\n",
    "print(namer(first,middle,last))"
   ]
  },
  {
   "cell_type": "markdown",
   "metadata": {},
   "source": [
    "**Q. Take the input of time in hours and minutes and return the total minutes**"
   ]
  },
  {
   "cell_type": "code",
   "execution_count": 5,
   "metadata": {},
   "outputs": [
    {
     "name": "stdin",
     "output_type": "stream",
     "text": [
      "enter hour followed by minutes with space 4 20\n"
     ]
    },
    {
     "name": "stdout",
     "output_type": "stream",
     "text": [
      "260\n"
     ]
    }
   ],
   "source": [
    "time=input(\"enter hour followed by minutes with space\").split()\n",
    "hour=int(time[0])\n",
    "minute=int(time[1])\n",
    "def time(hour,minute):\n",
    "    total=hour*60+minute\n",
    "    return total\n",
    "print(time(hour,minute))"
   ]
  },
  {
   "cell_type": "markdown",
   "metadata": {},
   "source": [
    "**Q. Compute P(n,r) permutation of n,r.**"
   ]
  },
  {
   "cell_type": "code",
   "execution_count": 20,
   "metadata": {},
   "outputs": [
    {
     "name": "stdin",
     "output_type": "stream",
     "text": [
      " 5\n",
      " 4\n"
     ]
    },
    {
     "name": "stdout",
     "output_type": "stream",
     "text": [
      "5\n"
     ]
    }
   ],
   "source": [
    "def factorial(num):\n",
    "    fact=1\n",
    "    for i in range(1,num+1):\n",
    "        fact=fact*i\n",
    "    return fact\n",
    "def permutation(n,r):\n",
    "    a=factorial(n)\n",
    "    b=factorial(r)\n",
    "    perm=a//b\n",
    "    return perm\n",
    "a=int(input())\n",
    "b=int(input())\n",
    "print(permutation(a,b))"
   ]
  },
  {
   "cell_type": "markdown",
   "metadata": {},
   "source": [
    "**Q. Wap to sum the series 1/1!+4/2!+27/3!+..... upto n**"
   ]
  },
  {
   "cell_type": "code",
   "execution_count": 11,
   "metadata": {},
   "outputs": [
    {
     "name": "stdin",
     "output_type": "stream",
     "text": [
      "enter n 8\n"
     ]
    },
    {
     "name": "stdout",
     "output_type": "stream",
     "text": [
      "688.5113095238096\n"
     ]
    }
   ],
   "source": [
    "n=int(input(\"enter n\"))\n",
    "sum=0\n",
    "def fact(num):\n",
    "    fact=1\n",
    "    for i in range(1,num+1):\n",
    "        fact=fact*i\n",
    "    return fact\n",
    "def adder(n):\n",
    "    sum=0\n",
    "    for i in range(n):\n",
    "        b=fact(i+1)\n",
    "        \n",
    "        a=(i+1)**(i+1)\n",
    "        sum=float(sum+a/b)\n",
    "    return sum\n",
    "print(adder(n))"
   ]
  },
  {
   "cell_type": "markdown",
   "metadata": {},
   "source": [
    "**Q. Wap that uses doc string to define function and variable length arguments to add the values passed to the function**"
   ]
  },
  {
   "cell_type": "code",
   "execution_count": 13,
   "metadata": {},
   "outputs": [
    {
     "name": "stdout",
     "output_type": "stream",
     "text": [
      "This function is shitty and documentation is useless xD\n",
      "14\n"
     ]
    }
   ],
   "source": [
    "def adder(a,b,*c):\n",
    "    \"\"\"This function is shitty and documentation is useless xD\"\"\"\n",
    "    sum=0\n",
    "    sum=a+b\n",
    "    for elements in c:\n",
    "        sum=sum+elements\n",
    "    return sum\n",
    "print(adder.__doc__)\n",
    "print(adder(5,4,3,2))\n"
   ]
  },
  {
   "cell_type": "markdown",
   "metadata": {},
   "source": [
    "**Q. WAP that takes the input of user name and greets the person.<br>\n",
    "Sample input:Enter your name<br>\n",
    "    Sarhanch<br>\n",
    "    Op: <br>\n",
    "        Welcome Sarhanch,happy day!**<br>"
   ]
  },
  {
   "cell_type": "code",
   "execution_count": 14,
   "metadata": {},
   "outputs": [
    {
     "name": "stdin",
     "output_type": "stream",
     "text": [
      " Aayush Gandhi\n"
     ]
    },
    {
     "name": "stdout",
     "output_type": "stream",
     "text": [
      "Aayush Gandhi ,welcome to Python Questions by Aayush\n"
     ]
    }
   ],
   "source": [
    "usr_name=input()\n",
    "def greet(name):\n",
    "    greet=name+\" \"+\",welcome to Python Questions by Aayush\"\n",
    "    return greet\n",
    "print(greet(usr_name))"
   ]
  },
  {
   "cell_type": "markdown",
   "metadata": {},
   "source": [
    "**Q. Wap to find default args to print the following<br>\n",
    "% % % % % % <br>\n",
    "^ ^ ^ ^ ^ ^<br>\n",
    "^ ^ ^ ^ ^ ^ ^ ^ ^ ^<br>\n",
    "^ ^ ^ ^ ^ ^ ^ ^ ^ ^ ^ ^ ^ ^ ^<br>\n",
    "^ ^ ^ ^ ^ ^ ^ ^ ^ ^ ^ ^ ^ ^ ^ <br>**\n"
   ]
  },
  {
   "cell_type": "code",
   "execution_count": 17,
   "metadata": {},
   "outputs": [
    {
     "name": "stdout",
     "output_type": "stream",
     "text": [
      "% % % % % % \n",
      "^ ^ ^ ^ ^ ^ \n",
      "^ ^ ^ ^ ^ ^ ^ ^ ^ ^ \n",
      "^ ^ ^ ^ ^ ^ ^ ^ ^ ^ ^ ^ ^ ^ ^ \n",
      "^ ^ ^ ^ ^ ^ ^ ^ ^ ^ ^ ^ ^ ^ ^ \n"
     ]
    }
   ],
   "source": [
    "def pattern(char='%'):\n",
    "    print((char+\" \")*6)\n",
    "    print(\"^ \"*6)\n",
    "    print(\"^ \"*10)\n",
    "    print(\"^ \"*15)\n",
    "    print(\"^ \"*15)\n",
    "pattern()\n"
   ]
  },
  {
   "cell_type": "code",
   "execution_count": null,
   "metadata": {},
   "outputs": [],
   "source": []
  }
 ],
 "metadata": {
  "kernelspec": {
   "display_name": "Python 3",
   "language": "python",
   "name": "python3"
  },
  "language_info": {
   "codemirror_mode": {
    "name": "ipython",
    "version": 3
   },
   "file_extension": ".py",
   "mimetype": "text/x-python",
   "name": "python",
   "nbconvert_exporter": "python",
   "pygments_lexer": "ipython3",
   "version": "3.7.3"
  }
 },
 "nbformat": 4,
 "nbformat_minor": 4
}
