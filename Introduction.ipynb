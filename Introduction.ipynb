{
 "cells": [
  {
   "cell_type": "markdown",
   "metadata": {},
   "source": [
    "# Introduction to Python "
   ]
  },
  {
   "cell_type": "markdown",
   "metadata": {},
   "source": [
    "*Python is an easy to learn, powerful programming language. It has efficient high-level data structures and a simple but effective approach to object-oriented programming. Python’s elegant syntax and dynamic typing, together with its interpreted nature, make it an ideal language for scripting and rapid application development in many areas on most platforms.*  \n",
    "**Created by Guido van Rossum and first released in 1991.**"
   ]
  },
  {
   "cell_type": "markdown",
   "metadata": {},
   "source": [
    "Python is an interpreted object oriented language. (objects are small units that can access controlled portions of the code)"
   ]
  },
  {
   "cell_type": "markdown",
   "metadata": {},
   "source": [
    "### Why Python?\n",
    "<ul>\n",
    "    <li>readable and maintainable code</li>\n",
    "    <li>multiple programming paradigms</li>\n",
    "    <li>compatable with major system</li>\n",
    "    <li>many opensource framework and tools</li>\n",
    "    <li>simple and short syntax</li>\n",
    "    <li>adopt test driven development</li>\n",
    "    "
   ]
  },
  {
   "cell_type": "markdown",
   "metadata": {},
   "source": [
    "*By the way, the language is named after the BBC show “Monty Python’s Flying Circus” and has nothing to do with reptiles.*"
   ]
  },
  {
   "cell_type": "markdown",
   "metadata": {},
   "source": [
    "### Difference between compiler and interpreter\n",
    "**Compiler**  \n",
    "Source code --> Compiler --> Machine Code --> Output  \n",
    "**Interpreter (Python)**  \n",
    "Source Code --> Interpreter --> Output"
   ]
  },
  {
   "cell_type": "markdown",
   "metadata": {},
   "source": [
    "<table>\n",
    "    <tr>\n",
    "        <td><b>Compiler</b></td>\n",
    "        <td><b>Interpreter</b></td>\n",
    "    </tr>\n",
    "    <tr>\n",
    "        <td>Takes entire program as input</td>\n",
    "        <td>Takes single line at a time</td>\n",
    "        </tr>\n",
    "    <tr>\n",
    "        <td>Conditional control statements executed faster</td>\n",
    "        <td>Conditional control statements executed slower</td>\n",
    "    </tr>\n",
    "    <tr>\n",
    "        <td>memory requirements are more</td>\n",
    "        <td>less memory requirements</td>\n",
    "    </tr>\n",
    "    <tr>\n",
    "        <td>Errors are shown after program is compiled</td>\n",
    "        <td>errors are shown as they pop up</td>\n",
    "    </tr>\n",
    "    </table>\n",
    "       "
   ]
  },
  {
   "cell_type": "markdown",
   "metadata": {},
   "source": [
    "## Difference between C/C++ and Python\n",
    "<table>\n",
    "    <tr>\n",
    "        <td><b>C/C++</b></td>\n",
    "        <td><b>Python</b></td>\n",
    "    </tr>\n",
    "    <tr>\n",
    "        <td>garbage collection not supported</td>\n",
    "        <td>garbage collection supported</td>\n",
    "    </tr>\n",
    "    <tr>\n",
    "        <td>Uses Compiler</td>\n",
    "        <td>Uses Interpreter</td>\n",
    "    </tr>\n",
    "    <tr>\n",
    "        <td>Pointers available</td>\n",
    "        <td>No pointer</td>\n",
    "    </tr>\n",
    "    <tr>\n",
    "        <td>compulsory to declare variables</td>\n",
    "        <td>no need to declare variables</td>\n",
    "    </tr>\n",
    "    <tr>\n",
    "        <td>Harder and laonger Syntax</td>\n",
    "        <td>Simple and almost spoken english syntax</td>\n",
    "    </tr>\n",
    "    <tr>\n",
    "        <td>variable scope limited within loops</td>\n",
    "        <td>variable scope can be set to global in loops</td>\n",
    "    </tr>\n",
    "    </table>"
   ]
  },
  {
   "cell_type": "code",
   "execution_count": null,
   "metadata": {},
   "outputs": [],
   "source": []
  }
 ],
 "metadata": {
  "kernelspec": {
   "display_name": "Python 3",
   "language": "python",
   "name": "python3"
  },
  "language_info": {
   "codemirror_mode": {
    "name": "ipython",
    "version": 3
   },
   "file_extension": ".py",
   "mimetype": "text/x-python",
   "name": "python",
   "nbconvert_exporter": "python",
   "pygments_lexer": "ipython3",
   "version": "3.7.3"
  }
 },
 "nbformat": 4,
 "nbformat_minor": 4
}
